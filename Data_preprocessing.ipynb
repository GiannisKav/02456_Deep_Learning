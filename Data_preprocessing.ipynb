{
 "cells": [
  {
   "cell_type": "code",
   "execution_count": 1,
   "metadata": {
    "ExecuteTime": {
     "end_time": "2017-12-19T14:52:30.603983Z",
     "start_time": "2017-12-19T14:52:29.643659Z"
    },
    "collapsed": true
   },
   "outputs": [],
   "source": [
    "import pandas as pd\n",
    "import csv\n",
    "import numpy as np\n",
    "import datetime \n",
    "import pdb\n",
    "import time\n",
    "\n",
    "FILENAME_D = 'data/consumption_d.csv'\n",
    "FILENAME_N = 'data/consumption_n.csv'\n",
    "FILENAME_OUT = 'data/full_data.csv'\n",
    "FILENAME_TOTAL_OUT = 'data/total_cons.csv'"
   ]
  },
  {
   "cell_type": "code",
   "execution_count": 105,
   "metadata": {
    "ExecuteTime": {
     "end_time": "2017-12-19T15:46:16.363887Z",
     "start_time": "2017-12-19T15:46:16.034581Z"
    },
    "collapsed": true
   },
   "outputs": [],
   "source": [
    "#final handle_nans\n",
    "FILENAME_OUT = 'data/full_data2'\n",
    "\n",
    "def load_tariff():\n",
    "    return pd.read_csv('data/tariff_d.csv',index_col=0)['Price']\n",
    "\n",
    "def interpolate_nans(df,maxNans): #replace nans with interpolation\n",
    "    df = df_without_n_nans(df,maxNans)\n",
    "    df = df.replace(0,np.nan)\n",
    "    df = df.interpolate()\n",
    "    return df\n",
    "\n",
    "def remove_consecutive_zeros(df,n): # link for original code: https://stackoverflow.com/a/24892274\n",
    "    final_list=[]\n",
    "    for customer in df.columns[1:]:\n",
    "        as_np=df[customer].values\n",
    "        iszero = np.concatenate(([0], np.equal(as_np, 0).view(np.int8), [0]))\n",
    "        absdiff = np.abs(np.diff(iszero))\n",
    "        ranges = np.where(absdiff == 1)[0].reshape(-1, 2)\n",
    "        range_list=[]\n",
    "        for item in ranges:\n",
    "            range_list.append(item[1]-item[0])\n",
    "        try:\n",
    "            final_list.append(max(range_list))\n",
    "        except ValueError:\n",
    "            final_list.append(0)\n",
    "    idx_remove = np.where(np.array(final_list)>7)[0]+1 \n",
    "    return df.drop(df.columns[idx_remove], axis=1).reset_index(drop = True)  \n",
    "            \n",
    "def add_tof(df,tof):\n",
    "    df.loc[-1] = df.shape[1]*[tof]  # adding a row\n",
    "    df.index = df.index + 1  # shifting index\n",
    "    df = df.sort_index()  # sorting by index\n",
    "    return df\n",
    "\n",
    "def save_data(filenameOut,maxNans = 7):\n",
    "    dfN = pd.read_csv('data/consumption_n.csv').fillna(0)\n",
    "    dfD = pd.read_csv('data/consumption_d.csv').fillna(0)\n",
    "    #drop last timestamp to have whole days\n",
    "    dfN = dfN.iloc[:-1,:]\n",
    "    dfD = dfD.iloc[:-1,:]\n",
    "    #ditch timestamps before 01.01\n",
    "    dfN['GMT'] = pd.to_datetime(dfN['GMT'])\n",
    "    dfD['GMT'] = pd.to_datetime(dfD['GMT'])\n",
    "    startDate=pd.to_datetime('01/01/13 00:00')\n",
    "#     endDate=pd.to_datetime('31/12/13 23:30')\n",
    "    dfN = dfN[dfN['GMT'] >= startDate].reset_index(drop = True)\n",
    "    dfD = dfD[dfD['GMT'] >= startDate].reset_index(drop = True)\n",
    "    \n",
    "    dfN = remove_consecutive_zeros(dfN,7)\n",
    "    dfD = remove_consecutive_zeros(dfD,7)\n",
    "    dfN = dfN.interpolate()\n",
    "    dfD = dfD.interpolate()\n",
    "    dfN = add_tof(dfN,0)\n",
    "    dfD = add_tof(dfD,1)\n",
    "    df = pd.concat([dfN,dfD],axis=1)\n",
    "    df = df.T\n",
    "    df = df.reset_index(drop=True)\n",
    "    df.columns = df.iloc[0]\n",
    "    df = df.reindex(df.index.drop(0)).reset_index(drop=True)\n",
    "    df = df.rename(columns = {0:'tof'})\n",
    "    df.to_csv(filenameOut,index=False)\n",
    "    return df\n",
    "\n",
    "def aggregated_consumptions(df):\n",
    "    last_timestamp = df.columns.get_loc('2013-12-31 23:30:00')\n",
    "    tariff = load_tariff()\n",
    "    total_1 = df[df['tof']==1].iloc[:,:last_timestamp+1].sum()[1:]\n",
    "    total_0 = df[df['tof']==0].iloc[:,:last_timestamp+1].sum()[1:]\n",
    "    total = pd.concat([total_1,total_0,tariff],axis=1).reset_index(drop=True)\n",
    "    total.columns = ['tof','no_tof','tariff']\n",
    "    total.to_csv(FILENAME_TOTAL_OUT,index=False)\n",
    "    return total"
   ]
  },
  {
   "cell_type": "code",
   "execution_count": null,
   "metadata": {
    "collapsed": true
   },
   "outputs": [],
   "source": [
    "# Example run\n",
    "\n",
    "dataset = save_data(FILENAME_OUT)\n",
    "total_cons = aggregated_consumptions(dataset)"
   ]
  }
 ],
 "metadata": {
  "kernelspec": {
   "display_name": "Python 3",
   "language": "python",
   "name": "python3"
  },
  "language_info": {
   "codemirror_mode": {
    "name": "ipython",
    "version": 3
   },
   "file_extension": ".py",
   "mimetype": "text/x-python",
   "name": "python",
   "nbconvert_exporter": "python",
   "pygments_lexer": "ipython3",
   "version": "3.5.4"
  }
 },
 "nbformat": 4,
 "nbformat_minor": 2
}
