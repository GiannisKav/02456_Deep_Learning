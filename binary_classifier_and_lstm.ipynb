{
 "cells": [
  {
   "cell_type": "markdown",
   "metadata": {},
   "source": [
    "# FFNN Binary Classifier"
   ]
  },
  {
   "cell_type": "markdown",
   "metadata": {
    "ExecuteTime": {
     "end_time": "2018-01-02T13:23:54.885816Z",
     "start_time": "2018-01-02T13:23:54.875977Z"
    }
   },
   "source": [
    "## Import Libraries"
   ]
  },
  {
   "cell_type": "code",
   "execution_count": 5,
   "metadata": {
    "ExecuteTime": {
     "end_time": "2018-01-02T13:33:32.737331Z",
     "start_time": "2018-01-02T13:33:32.677481Z"
    }
   },
   "outputs": [],
   "source": [
    "%matplotlib inline\n",
    "import matplotlib\n",
    "import numpy as np\n",
    "import pandas as pd\n",
    "import matplotlib.pyplot as plt\n",
    "import matplotlib as mpl\n",
    "import tensorflow as tf\n",
    "import glob\n",
    "import datetime\n",
    "from tensorflow.python.framework.ops import reset_default_graph\n",
    "from sklearn.preprocessing import LabelEncoder\n",
    "from sklearn.model_selection import StratifiedShuffleSplit\n",
    "from sklearn.decomposition import TruncatedSVD\n",
    "from sklearn.random_projection import sparse_random_matrix\n",
    "from sklearn import metrics\n",
    "from sklearn.decomposition import PCA\n",
    "from sklearn.linear_model import LogisticRegression\n",
    "import sklearn as skl\n",
    "from sklearn.cluster import KMeans\n",
    "import os\n",
    "import subprocess\n",
    "import itertools\n",
    "import random as rnd\n",
    "#import data_utils\n",
    "import pdb\n",
    "import os\n",
    "import sys\n",
    "from scipy import signal\n",
    "sys.path.append(os.path.join('.', '..')) # Allow us to import shared custom \n",
    "                                         # libraries, like utils.py\n",
    "import utils # contain various helper funcitons that aren't \n",
    "             # important to understand\n",
    "\n",
    "def onehot(t, num_classes):\n",
    "    out = np.zeros((t.shape[0], num_classes))\n",
    "    for row, col in enumerate(t):\n",
    "        out[int(row), int(col)] = 1\n",
    "    return out"
   ]
  },
  {
   "cell_type": "markdown",
   "metadata": {},
   "source": [
    "## Load, Process Data and Define Auxiliary Functions"
   ]
  },
  {
   "cell_type": "code",
   "execution_count": 6,
   "metadata": {
    "ExecuteTime": {
     "end_time": "2018-01-02T13:34:32.729117Z",
     "start_time": "2018-01-02T13:33:36.157624Z"
    }
   },
   "outputs": [],
   "source": [
    "FILENAME = 'Data/ffnn_dataset.csv'\n",
    "df = pd.read_csv(FILENAME)"
   ]
  },
  {
   "cell_type": "code",
   "execution_count": 7,
   "metadata": {
    "ExecuteTime": {
     "end_time": "2018-01-02T13:34:33.036314Z",
     "start_time": "2018-01-02T13:34:32.730916Z"
    }
   },
   "outputs": [],
   "source": [
    "def period_avg(data, days):\n",
    "    samples_per_day = 48\n",
    "    datan = np.reshape(data[:,:int(data.shape[1]//(samples_per_day*days))*samples_per_day*days,None],(data.shape[0],days*samples_per_day,-1))\n",
    "    data_avg = np.mean(datan,2)\n",
    "    data_std = np.std(datan,2)\n",
    "    return data_avg, data_std\n",
    "\n",
    "def period_reshape(data, days):\n",
    "    samples_per_day = 48\n",
    "    datan = np.reshape(data[:,:int(data.shape[1]//(samples_per_day*days))*samples_per_day*days],(-1,days*samples_per_day))\n",
    "    return datan\n",
    "\n",
    "def fft_data_generator(df):\n",
    "    # Split data into TU and non TU.\n",
    "    datan = df.values[df.values[:,-1]==1,1:-2]\n",
    "    datad = df.values[df.values[:,-1]==0,1:-2]\n",
    "    # Average over days\n",
    "    days = 7\n",
    "    datan, datan_std = period_avg(datan, days)\n",
    "    datad, datad_std = period_avg(datad, days)\n",
    "    # Normalize data\n",
    "    datan = (datan-np.mean(np.concatenate([datan,datad])))/np.std(np.concatenate([datan,datad]))\n",
    "    datad = (datad-np.mean(np.concatenate([datan,datad])))/np.std(np.concatenate([datan,datad]))\n",
    "    # Training dataset\n",
    "    N_test = np.round(0.1*datan.shape[0]).astype(int) # Number of samples in the validation without TU\n",
    "    D_test = np.round(0.1*datad.shape[0]).astype(int) # Number of samples in the validation with TU\n",
    "    N_train = datan.shape[0]-N_test # Number of samples in the training without TU\n",
    "    D_train = datad.shape[0]-D_test # Number of samples in the training with TU\n",
    "    # Take N_train values from datan randomly, and store the indexes\n",
    "    itn = np.asarray(rnd.sample(set(np.arange(0,datan.shape[0])),N_train))\n",
    "    ivn = np.setxor1d(np.arange(0,datan.shape[0]), itn)  # Validation\n",
    "    # Take D_train values from datad randomly, and store the indexes\n",
    "    itd = np.asarray(rnd.sample(set(np.arange(0,datad.shape[0])),D_train))\n",
    "    ivd = np.setxor1d(np.arange(0,datad.shape[0]), itd)  # Validation\n",
    "    # Calculate FFT\n",
    "    FFT_n = np.fft.fft(datan)\n",
    "    FFT_d = np.fft.fft(datad)\n",
    "    # Take half of the spectrum\n",
    "    FFT_n = FFT_n[:,0:np.round(datan.shape[1]/2).astype(int)]\n",
    "    FFT_d = FFT_d[:,0:np.round(datad.shape[1]/2).astype(int)]\n",
    "    # Take training and validation samples using calculated indexes\n",
    "    FFT_train = np.concatenate((FFT_n[itn,:],FFT_d[itd,:]),0)\n",
    "    FFT_test = np.concatenate((FFT_n[ivn,:],FFT_d[ivd,:]),0)\n",
    "    # Label with 0 non-TU and 1 TU\n",
    "    label_train = np.zeros((N_train+D_train))\n",
    "    label_train[N_train:] = 1\n",
    "    label_test = np.zeros((N_test+D_test))\n",
    "    label_test[N_test:] = 1\n",
    "    \n",
    "    train = FFT_train\n",
    "    train_labels = label_train\n",
    "    test = FFT_test\n",
    "    test_labels = label_test\n",
    "    \n",
    "    return train, train_labels, test, test_labels\n",
    "def plot_confusion_matrix(cm, classes,\n",
    "                          normalize=False,\n",
    "                          title='Confusion matrix',\n",
    "                          cmap=plt.cm.Blues):\n",
    "    \"\"\"\n",
    "    This function prints and plots the confusion matrix.\n",
    "    Normalization can be applied by setting `normalize=True`.\n",
    "    \"\"\"\n",
    "    if normalize:\n",
    "        cm = cm.astype('float') / cm.sum(axis=1)[:, np.newaxis]\n",
    "        print(\"Normalized confusion matrix\")\n",
    "    else:\n",
    "        print('Confusion matrix, without normalization')\n",
    "\n",
    "    print(cm)\n",
    "\n",
    "    plt.imshow(cm, interpolation='nearest', cmap=cmap)\n",
    "    plt.title(title)\n",
    "    plt.colorbar()\n",
    "    tick_marks = np.arange(len(classes))\n",
    "    plt.xticks(tick_marks, classes, rotation=45)\n",
    "    plt.yticks(tick_marks, classes)\n",
    "\n",
    "    fmt = '.2f' if normalize else 'd'\n",
    "    thresh = cm.max() / 2.\n",
    "    for i, j in itertools.product(range(cm.shape[0]), range(cm.shape[1])):\n",
    "        plt.text(j, i, format(cm[i, j], fmt),\n",
    "                 horizontalalignment=\"center\",\n",
    "                 color=\"white\" if cm[i, j] > thresh else \"black\")\n",
    "\n",
    "    plt.tight_layout()\n",
    "    plt.ylabel('True label')\n",
    "    plt.xlabel('Predicted label')"
   ]
  },
  {
   "cell_type": "code",
   "execution_count": 8,
   "metadata": {
    "ExecuteTime": {
     "end_time": "2018-01-02T13:34:42.756746Z",
     "start_time": "2018-01-02T13:34:40.126853Z"
    }
   },
   "outputs": [],
   "source": [
    "train, train_labels, test, test_labels = fft_data_generator(df)"
   ]
  },
  {
   "cell_type": "code",
   "execution_count": 9,
   "metadata": {
    "ExecuteTime": {
     "end_time": "2018-01-02T13:34:44.520899Z",
     "start_time": "2018-01-02T13:34:44.516980Z"
    }
   },
   "outputs": [],
   "source": [
    "NUM_CLASSES = 2\n",
    "NUM_FEATURES = int(train.shape[1])"
   ]
  },
  {
   "cell_type": "markdown",
   "metadata": {},
   "source": [
    "## KMeans and Logistic regression for comparisson."
   ]
  },
  {
   "cell_type": "code",
   "execution_count": 10,
   "metadata": {
    "ExecuteTime": {
     "end_time": "2018-01-02T13:46:21.844187Z",
     "start_time": "2018-01-02T13:46:18.821241Z"
    }
   },
   "outputs": [
    {
     "data": {
      "text/plain": [
       "LogisticRegression(C=1.0, class_weight='balanced', dual=False,\n",
       "          fit_intercept=True, intercept_scaling=1, max_iter=100,\n",
       "          multi_class='ovr', n_jobs=1, penalty='l2', random_state=None,\n",
       "          solver='liblinear', tol=0.0001, verbose=0, warm_start=False)"
      ]
     },
     "execution_count": 10,
     "metadata": {},
     "output_type": "execute_result"
    }
   ],
   "source": [
    "# Kmeans\n",
    "km = KMeans(init='k-means++', n_clusters=NUM_CLASSES, n_init=100)\n",
    "km.fit(np.abs(train))\n",
    "# Logistic\n",
    "logis = LogisticRegression(penalty='l2',class_weight='balanced')\n",
    "logis.fit(np.abs(train),train_labels)"
   ]
  },
  {
   "cell_type": "code",
   "execution_count": 11,
   "metadata": {
    "ExecuteTime": {
     "end_time": "2018-01-02T13:46:22.442333Z",
     "start_time": "2018-01-02T13:46:21.845987Z"
    }
   },
   "outputs": [
    {
     "name": "stdout",
     "output_type": "stream",
     "text": [
      "Normalized confusion matrix\n",
      "[[ 0.93  0.07]\n",
      " [ 0.07  0.93]]\n"
     ]
    },
    {
     "data": {
      "image/png": "[encoded data removed]",
      "text/plain": [
       "<matplotlib.figure.Figure at 0x7f8fb0750ef0>"
      ]
     },
     "metadata": {},
     "output_type": "display_data"
    }
   ],
   "source": [
    "# Confusion matrix for logistic\n",
    "cnf_matrix = skl.metrics.confusion_matrix(test_labels, logis.predict(np.abs(test)))\n",
    "np.set_printoptions(precision=2)\n",
    "\n",
    "class_names = ['NO TOU','TOU']\n",
    "# Plot normalized confusion matrix\n",
    "plt.figure()\n",
    "plot_confusion_matrix(cnf_matrix, classes=class_names, normalize=True,\n",
    "                      title='Normalized confusion matrix')\n",
    "metrics.homogeneity_score(train_labels, logis.predict(train))\n",
    "#plt.savefig('conf_matrix_logit.pdf',dpi = 300)\n",
    "plt.show()"
   ]
  },
  {
   "cell_type": "code",
   "execution_count": 13,
   "metadata": {
    "ExecuteTime": {
     "end_time": "2018-01-02T13:46:30.158347Z",
     "start_time": "2018-01-02T13:46:29.906651Z"
    }
   },
   "outputs": [
    {
     "name": "stdout",
     "output_type": "stream",
     "text": [
      "Normalized confusion matrix\n",
      "[[ 0.03  0.97]\n",
      " [ 0.    1.  ]]\n"
     ]
    },
    {
     "data": {
      "image/png": "[encoded data removed]",
      "text/plain": [
       "<matplotlib.figure.Figure at 0x7f8fa3d533c8>"
      ]
     },
     "metadata": {},
     "output_type": "display_data"
    }
   ],
   "source": [
    "# Confusion matrix fo Kmeans\n",
    "cnf_matrix = skl.metrics.confusion_matrix(test_labels, 1-km.predict(np.abs(test)))\n",
    "np.set_printoptions(precision=2)\n",
    "class_names = ['NO TOU','TOU']\n",
    "# Plot normalized confusion matrix\n",
    "plt.figure()\n",
    "plot_confusion_matrix(cnf_matrix, classes=class_names, normalize=True,\n",
    "                      title='Normalized confusion matrix')\n",
    "metrics.homogeneity_score(train_labels, logis.predict(train))\n",
    "#plt.savefig('conf_matrix_kmeans.pdf',dpi = 300)\n",
    "plt.show()"
   ]
  },
  {
   "cell_type": "markdown",
   "metadata": {},
   "source": [
    "## Visualize Data"
   ]
  },
  {
   "cell_type": "code",
   "execution_count": 14,
   "metadata": {
    "ExecuteTime": {
     "end_time": "2018-01-02T13:46:38.142744Z",
     "start_time": "2018-01-02T13:46:33.142618Z"
    }
   },
   "outputs": [],
   "source": [
    "# Spectrogram\n",
    "# Split data into TU and non TU.\n",
    "datan = df.values[df.values[:,-1]==1,1:-2]\n",
    "datad = df.values[df.values[:,-1]==0,1:-2]\n",
    "# Normalize data\n",
    "datan = (datan-np.mean(np.concatenate([datan,datad])))/np.std(np.concatenate([datan,datad]))\n",
    "datad = (datad-np.mean(np.concatenate([datan,datad])))/np.std(np.concatenate([datan,datad]))\n",
    "f,t,Sxx = signal.spectrogram(datad,window=('tukey',0.25),nperseg = 48*30,axis=-1)"
   ]
  },
  {
   "cell_type": "code",
   "execution_count": 15,
   "metadata": {
    "ExecuteTime": {
     "end_time": "2018-01-02T13:46:38.438642Z",
     "start_time": "2018-01-02T13:46:38.146648Z"
    }
   },
   "outputs": [
    {
     "data": {
      "image/png": "[encoded data removed]",
      "text/plain": [
       "<matplotlib.figure.Figure at 0x7f8fb05bca58>"
      ]
     },
     "metadata": {},
     "output_type": "display_data"
    },
    {
     "data": {
      "text/plain": [
       "<matplotlib.figure.Figure at 0x7f8fb0544fd0>"
      ]
     },
     "metadata": {},
     "output_type": "display_data"
    }
   ],
   "source": [
    "# Visualize Spectrogram\n",
    "scale = 0.6\n",
    "mpl.rcParams['ytick.labelsize']=20*scale\n",
    "mpl.rcParams['xtick.labelsize']=20*scale\n",
    "mpl.rcParams['axes.labelsize']=23*scale\n",
    "mpl.rcParams['axes.titlesize']=23*scale\n",
    "mpl.rcParams['legend.fontsize']=15*scale\n",
    "plt.figure(figsize=(8, 5))\n",
    "plt.pcolormesh(np.arange(1,t.shape[0]), f, 20*np.log10(np.mean(Sxx[:,:,:-1], axis = 0)))\n",
    "plt.ylabel('Frequency')\n",
    "plt.xlabel('Month')\n",
    "plt.yticks(np.arange(0,0.6,0.1),['15 Days','5 Hours','2.5 Hours','1.75 Hours','1.25 Hours','1 Hour'])\n",
    "plt.set_cmap('hot')\n",
    "plt.colorbar()\n",
    "plt.show()\n",
    "#plt.savefig('tou.pdf',dpi=400)\n",
    "plt.tight_layout()"
   ]
  },
  {
   "cell_type": "markdown",
   "metadata": {
    "ExecuteTime": {
     "end_time": "2018-01-02T13:29:24.667425Z",
     "start_time": "2018-01-02T13:29:24.660144Z"
    }
   },
   "source": [
    "## Build the model"
   ]
  },
  {
   "cell_type": "code",
   "execution_count": 16,
   "metadata": {
    "ExecuteTime": {
     "end_time": "2018-01-02T13:46:40.916980Z",
     "start_time": "2018-01-02T13:46:38.446929Z"
    }
   },
   "outputs": [],
   "source": [
    "from tensorflow.contrib.layers import fully_connected, convolution2d, flatten, batch_norm, max_pool2d, dropout\n",
    "from tensorflow.python.ops.nn import relu, elu, relu6, sigmoid, tanh, softmax\n",
    "from tensorflow.python.ops.nn import dynamic_rnn"
   ]
  },
  {
   "cell_type": "code",
   "execution_count": 17,
   "metadata": {
    "ExecuteTime": {
     "end_time": "2018-01-02T13:46:41.173988Z",
     "start_time": "2018-01-02T13:46:40.921596Z"
    }
   },
   "outputs": [],
   "source": [
    "# resetting the graph ...\n",
    "reset_default_graph()\n",
    "l1_units = 32\n",
    "l2_units = 64\n",
    "# Setting up placeholder, this is where your data enters the graph!\n",
    "x_fft_pl = tf.placeholder(tf.float32, [None, NUM_FEATURES], name=\"x-fft_pl\")\n",
    "is_training_pl = tf.placeholder(tf.bool, name=\"is-training_pl\")\n",
    "class_weight = [(train_labels == 1).sum()/len(train_labels),1-(train_labels == 1).sum()/len(train_labels)]\n",
    "# use fft\n",
    "features = tf.concat(values=[x_fft_pl], axis=1, name=\"features\")\n",
    "features = batch_norm(features, scope='features_bn')\n",
    "l1 = fully_connected(features, num_outputs=l1_units, activation_fn=relu,\n",
    "                    normalizer_fn=batch_norm, scope=\"l1\")\n",
    "#l2 = fully_connected(l1, num_outputs=l2_units, activation_fn=relu,\n",
    "#                    normalizer_fn=batch_norm, scope=\"l2\")\n",
    "#l2_dropout = dropout(l2, is_training=is_training_pl, scope=\"l2_dropout\")\n",
    "y = fully_connected(l1, NUM_CLASSES, activation_fn=softmax, scope=\"y\")\n",
    "\n",
    "# add TensorBoard summaries for all variables\n",
    "tf.summary.merge_all()\n",
    "\n",
    "# restricting memory usage, TensorFlow is greedy and will use all memory otherwise\n",
    "gpu_opts = tf.GPUOptions(per_process_gpu_memory_fraction=0.2)\n",
    "# initialize the Session\n",
    "sess = tf.Session(config=tf.ConfigProto(gpu_options=gpu_opts))"
   ]
  },
  {
   "cell_type": "code",
   "execution_count": 18,
   "metadata": {
    "ExecuteTime": {
     "end_time": "2018-01-02T13:46:41.215261Z",
     "start_time": "2018-01-02T13:46:41.176382Z"
    }
   },
   "outputs": [
    {
     "data": {
      "text/html": [
       "\n",
       "        <iframe seamless style=\"width:800px;height:620px;border:0\" srcdoc=\"\n",
       "        <script>\n",
       "          function load() {\n",
       "            document.getElementById(&quot;graph0.6354037609448716&quot;).pbtxt = 'node {\\n  name: &quot;x-fft/pl&quot;\\n  op: &quot;Placeholder&quot;\\n  attr {\\n    key: &quot;dtype&quot;\\n    value {\\n      type: DT_FLOAT\\n    }\\n  }\\n  attr {\\n    key: &quot;shape&quot;\\n    value {\\n      shape {\\n        dim {\\n          size: -1\\n        }\\n        dim {\\n          size: 168\\n        }\\n      }\\n    }\\n  }\\n}\\nnode {\\n  name: &quot;is-training/pl&quot;\\n  op: &quot;Placeholder&quot;\\n  attr {\\n    key: &quot;dtype&quot;\\n    value {\\n      type: DT_BOOL\\n    }\\n  }\\n  attr {\\n    key: &quot;shape&quot;\\n    value {\\n      shape {\\n        unknown_rank: true\\n      }\\n    }\\n  }\\n}\\nnode {\\n  name: &quot;features/concat/dim&quot;\\n  op: &quot;Const&quot;\\n  attr {\\n    key: &quot;dtype&quot;\\n    value {\\n      type: DT_INT32\\n    }\\n  }\\n  attr {\\n    key: &quot;value&quot;\\n    value {\\n      tensor {\\n        dtype: DT_INT32\\n        tensor_shape {\\n        }\\n        int_val: 1\\n      }\\n    }\\n  }\\n}\\nnode {\\n  name: &quot;features&quot;\\n  op: &quot;Identity&quot;\\n  input: &quot;x-fft/pl&quot;\\n  attr {\\n    key: &quot;T&quot;\\n    value {\\n      type: DT_FLOAT\\n    }\\n  }\\n}\\nnode {\\n  name: &quot;features/bn/Reshape/shape&quot;\\n  op: &quot;Const&quot;\\n  attr {\\n    key: &quot;dtype&quot;\\n    value {\\n      type: DT_INT32\\n    }\\n  }\\n  attr {\\n    key: &quot;value&quot;\\n    value {\\n      tensor {\\n        dtype: DT_INT32\\n        tensor_shape {\\n          dim {\\n            size: 4\\n          }\\n        }\\n        tensor_content: &quot;\\\\377\\\\377\\\\377\\\\377\\\\001\\\\000\\\\000\\\\000\\\\001\\\\000\\\\000\\\\000\\\\250\\\\000\\\\000\\\\000&quot;\\n      }\\n    }\\n  }\\n}\\nnode {\\n  name: &quot;features/bn/Reshape&quot;\\n  op: &quot;Reshape&quot;\\n  input: &quot;features&quot;\\n  input: &quot;features/bn/Reshape/shape&quot;\\n  attr {\\n    key: &quot;T&quot;\\n    value {\\n      type: DT_FLOAT\\n    }\\n  }\\n  attr {\\n    key: &quot;Tshape&quot;\\n    value {\\n      type: DT_INT32\\n    }\\n  }\\n}\\nnode {\\n  name: &quot;features/bn/beta/Initializer/zeros&quot;\\n  op: &quot;Const&quot;\\n  attr {\\n    key: &quot;_class&quot;\\n    value {\\n      list {\\n        s: &quot;loc:@features_bn/beta&quot;\\n      }\\n    }\\n  }\\n  attr {\\n    key: &quot;dtype&quot;\\n    value {\\n      type: DT_FLOAT\\n    }\\n  }\\n  attr {\\n    key: &quot;value&quot;\\n    value {\\n      tensor {\\n        dtype: DT_FLOAT\\n        tensor_shape {\\n          dim {\\n            size: 168\\n          }\\n        }\\n        float_val: 0.0\\n      }\\n    }\\n  }\\n}\\nnode {\\n  name: &quot;features/bn/beta&quot;\\n  op: &quot;VariableV2&quot;\\n  attr {\\n    key: &quot;_class&quot;\\n    value {\\n      list {\\n        s: &quot;loc:@features_bn/beta&quot;\\n      }\\n    }\\n  }\\n  attr {\\n    key: &quot;container&quot;\\n    value {\\n      s: &quot;&quot;\\n    }\\n  }\\n  attr {\\n    key: &quot;dtype&quot;\\n    value {\\n      type: DT_FLOAT\\n    }\\n  }\\n  attr {\\n    key: &quot;shape&quot;\\n    value {\\n      shape {\\n        dim {\\n          size: 168\\n        }\\n      }\\n    }\\n  }\\n  attr {\\n    key: &quot;shared_name&quot;\\n    value {\\n      s: &quot;&quot;\\n    }\\n  }\\n}\\nnode {\\n  name: &quot;features/bn/beta/Assign&quot;\\n  op: &quot;Assign&quot;\\n  input: &quot;features/bn/beta&quot;\\n  input: &quot;features/bn/beta/Initializer/zeros&quot;\\n  attr {\\n    key: &quot;T&quot;\\n    value {\\n      type: DT_FLOAT\\n    }\\n  }\\n  attr {\\n    key: &quot;_class&quot;\\n    value {\\n      list {\\n        s: &quot;loc:@features_bn/beta&quot;\\n      }\\n    }\\n  }\\n  attr {\\n    key: &quot;use_locking&quot;\\n    value {\\n      b: true\\n    }\\n  }\\n  attr {\\n    key: &quot;validate_shape&quot;\\n    value {\\n      b: true\\n    }\\n  }\\n}\\nnode {\\n  name: &quot;features/bn/beta/read&quot;\\n  op: &quot;Identity&quot;\\n  input: &quot;features/bn/beta&quot;\\n  attr {\\n    key: &quot;T&quot;\\n    value {\\n      type: DT_FLOAT\\n    }\\n  }\\n  attr {\\n    key: &quot;_class&quot;\\n    value {\\n      list {\\n        s: &quot;loc:@features_bn/beta&quot;\\n      }\\n    }\\n  }\\n}\\nnode {\\n  name: &quot;features/bn/Const&quot;\\n  op: &quot;Const&quot;\\n  attr {\\n    key: &quot;dtype&quot;\\n    value {\\n      type: DT_FLOAT\\n    }\\n  }\\n  attr {\\n    key: &quot;value&quot;\\n    value {\\n      tensor {\\n        dtype: DT_FLOAT\\n        tensor_shape {\\n          dim {\\n            size: 168\\n          }\\n        }\\n        float_val: 1.0\\n      }\\n    }\\n  }\\n}\\nnode {\\n  name: &quot;features/bn/moving_mean/Initializer/zeros&quot;\\n  op: &quot;Const&quot;\\n  attr {\\n    key: &quot;_class&quot;\\n    value {\\n      list {\\n        s: &quot;loc:@features_bn/moving_mean&quot;\\n      }\\n    }\\n  }\\n  attr {\\n    key: &quot;dtype&quot;\\n    value {\\n      type: DT_FLOAT\\n    }\\n  }\\n  attr {\\n    key: &quot;value&quot;\\n    value {\\n      tensor {\\n        dtype: DT_FLOAT\\n        tensor_shape {\\n          dim {\\n            size: 168\\n          }\\n        }\\n        float_val: 0.0\\n      }\\n    }\\n  }\\n}\\nnode {\\n  name: &quot;features/bn/moving_mean&quot;\\n  op: &quot;VariableV2&quot;\\n  attr {\\n    key: &quot;_class&quot;\\n    value {\\n      list {\\n        s: &quot;loc:@features_bn/moving_mean&quot;\\n      }\\n    }\\n  }\\n  attr {\\n    key: &quot;container&quot;\\n    value {\\n      s: &quot;&quot;\\n    }\\n  }\\n  attr {\\n    key: &quot;dtype&quot;\\n    value {\\n      type: DT_FLOAT\\n    }\\n  }\\n  attr {\\n    key: &quot;shape&quot;\\n    value {\\n      shape {\\n        dim {\\n          size: 168\\n        }\\n      }\\n    }\\n  }\\n  attr {\\n    key: &quot;shared_name&quot;\\n    value {\\n      s: &quot;&quot;\\n    }\\n  }\\n}\\nnode {\\n  name: &quot;features/bn/moving_mean/Assign&quot;\\n  op: &quot;Assign&quot;\\n  input: &quot;features/bn/moving_mean&quot;\\n  input: &quot;features/bn/moving_mean/Initializer/zeros&quot;\\n  attr {\\n    key: &quot;T&quot;\\n    value {\\n      type: DT_FLOAT\\n    }\\n  }\\n  attr {\\n    key: &quot;_class&quot;\\n    value {\\n      list {\\n        s: &quot;loc:@features_bn/moving_mean&quot;\\n      }\\n    }\\n  }\\n  attr {\\n    key: &quot;use_locking&quot;\\n    value {\\n      b: true\\n    }\\n  }\\n  attr {\\n    key: &quot;validate_shape&quot;\\n    value {\\n      b: true\\n    }\\n  }\\n}\\nnode {\\n  name: &quot;features/bn/moving_mean/read&quot;\\n  op: &quot;Identity&quot;\\n  input: &quot;features/bn/moving_mean&quot;\\n  attr {\\n    key: &quot;T&quot;\\n    value {\\n      type: DT_FLOAT\\n    }\\n  }\\n  attr {\\n    key: &quot;_class&quot;\\n    value {\\n      list {\\n        s: &quot;loc:@features_bn/moving_mean&quot;\\n      }\\n    }\\n  }\\n}\\nnode {\\n  name: &quot;features/bn/moving_variance/Initializer/ones&quot;\\n  op: &quot;Const&quot;\\n  attr {\\n    key: &quot;_class&quot;\\n    value {\\n      list {\\n        s: &quot;loc:@features_bn/moving_variance&quot;\\n      }\\n    }\\n  }\\n  attr {\\n    key: &quot;dtype&quot;\\n    value {\\n      type: DT_FLOAT\\n    }\\n  }\\n  attr {\\n    key: &quot;value&quot;\\n    value {\\n      tensor {\\n        dtype: DT_FLOAT\\n        tensor_shape {\\n          dim {\\n            size: 168\\n          }\\n        }\\n        float_val: 1.0\\n      }\\n    }\\n  }\\n}\\nnode {\\n  name: &quot;features/bn/moving_variance&quot;\\n  op: &quot;VariableV2&quot;\\n  attr {\\n    key: &quot;_class&quot;\\n    value {\\n      list {\\n        s: &quot;loc:@features_bn/moving_variance&quot;\\n      }\\n    }\\n  }\\n  attr {\\n    key: &quot;container&quot;\\n    value {\\n      s: &quot;&quot;\\n    }\\n  }\\n  attr {\\n    key: &quot;dtype&quot;\\n    value {\\n      type: DT_FLOAT\\n    }\\n  }\\n  attr {\\n    key: &quot;shape&quot;\\n    value {\\n      shape {\\n        dim {\\n          size: 168\\n        }\\n      }\\n    }\\n  }\\n  attr {\\n    key: &quot;shared_name&quot;\\n    value {\\n      s: &quot;&quot;\\n    }\\n  }\\n}\\nnode {\\n  name: &quot;features/bn/moving_variance/Assign&quot;\\n  op: &quot;Assign&quot;\\n  input: &quot;features/bn/moving_variance&quot;\\n  input: &quot;features/bn/moving_variance/Initializer/ones&quot;\\n  attr {\\n    key: &quot;T&quot;\\n    value {\\n      type: DT_FLOAT\\n    }\\n  }\\n  attr {\\n    key: &quot;_class&quot;\\n    value {\\n      list {\\n        s: &quot;loc:@features_bn/moving_variance&quot;\\n      }\\n    }\\n  }\\n  attr {\\n    key: &quot;use_locking&quot;\\n    value {\\n      b: true\\n    }\\n  }\\n  attr {\\n    key: &quot;validate_shape&quot;\\n    value {\\n      b: true\\n    }\\n  }\\n}\\nnode {\\n  name: &quot;features/bn/moving_variance/read&quot;\\n  op: &quot;Identity&quot;\\n  input: &quot;features/bn/moving_variance&quot;\\n  attr {\\n    key: &quot;T&quot;\\n    value {\\n      type: DT_FLOAT\\n    }\\n  }\\n  attr {\\n    key: &quot;_class&quot;\\n    value {\\n      list {\\n        s: &quot;loc:@features_bn/moving_variance&quot;\\n      }\\n    }\\n  }\\n}\\nnode {\\n  name: &quot;features/bn/Const_1&quot;\\n  op: &quot;Const&quot;\\n  attr {\\n    key: &quot;dtype&quot;\\n    value {\\n      type: DT_FLOAT\\n    }\\n  }\\n  attr {\\n    key: &quot;value&quot;\\n    value {\\n      tensor {\\n        dtype: DT_FLOAT\\n        tensor_shape {\\n          dim {\\n          }\\n        }\\n      }\\n    }\\n  }\\n}\\nnode {\\n  name: &quot;features/bn/Const_2&quot;\\n  op: &quot;Const&quot;\\n  attr {\\n    key: &quot;dtype&quot;\\n    value {\\n      type: DT_FLOAT\\n    }\\n  }\\n  attr {\\n    key: &quot;value&quot;\\n    value {\\n      tensor {\\n        dtype: DT_FLOAT\\n        tensor_shape {\\n          dim {\\n          }\\n        }\\n      }\\n    }\\n  }\\n}\\nnode {\\n  name: &quot;features/bn/FusedBatchNorm&quot;\\n  op: &quot;FusedBatchNorm&quot;\\n  input: &quot;features/bn/Reshape&quot;\\n  input: &quot;features/bn/Const&quot;\\n  input: &quot;features/bn/beta/read&quot;\\n  input: &quot;features/bn/Const_1&quot;\\n  input: &quot;features/bn/Const_2&quot;\\n  attr {\\n    key: &quot;T&quot;\\n    value {\\n      type: DT_FLOAT\\n    }\\n  }\\n  attr {\\n    key: &quot;data_format&quot;\\n    value {\\n      s: &quot;NHWC&quot;\\n    }\\n  }\\n  attr {\\n    key: &quot;epsilon&quot;\\n    value {\\n      f: 0.0010000000474974513\\n    }\\n  }\\n  attr {\\n    key: &quot;is_training&quot;\\n    value {\\n      b: true\\n    }\\n  }\\n}\\nnode {\\n  name: &quot;features/bn/AssignMovingAvg/decay&quot;\\n  op: &quot;Const&quot;\\n  attr {\\n    key: &quot;_class&quot;\\n    value {\\n      list {\\n        s: &quot;loc:@features_bn/moving_mean&quot;\\n      }\\n    }\\n  }\\n  attr {\\n    key: &quot;dtype&quot;\\n    value {\\n      type: DT_FLOAT\\n    }\\n  }\\n  attr {\\n    key: &quot;value&quot;\\n    value {\\n      tensor {\\n        dtype: DT_FLOAT\\n        tensor_shape {\\n        }\\n        float_val: 0.0010000000474974513\\n      }\\n    }\\n  }\\n}\\nnode {\\n  name: &quot;features/bn/AssignMovingAvg/sub&quot;\\n  op: &quot;Sub&quot;\\n  input: &quot;features/bn/moving_mean/read&quot;\\n  input: &quot;features/bn/FusedBatchNorm:1&quot;\\n  attr {\\n    key: &quot;T&quot;\\n    value {\\n      type: DT_FLOAT\\n    }\\n  }\\n  attr {\\n    key: &quot;_class&quot;\\n    value {\\n      list {\\n        s: &quot;loc:@features_bn/moving_mean&quot;\\n      }\\n    }\\n  }\\n}\\nnode {\\n  name: &quot;features/bn/AssignMovingAvg/mul&quot;\\n  op: &quot;Mul&quot;\\n  input: &quot;features/bn/AssignMovingAvg/sub&quot;\\n  input: &quot;features/bn/AssignMovingAvg/decay&quot;\\n  attr {\\n    key: &quot;T&quot;\\n    value {\\n      type: DT_FLOAT\\n    }\\n  }\\n  attr {\\n    key: &quot;_class&quot;\\n    value {\\n      list {\\n        s: &quot;loc:@features_bn/moving_mean&quot;\\n      }\\n    }\\n  }\\n}\\nnode {\\n  name: &quot;features/bn/AssignMovingAvg&quot;\\n  op: &quot;AssignSub&quot;\\n  input: &quot;features/bn/moving_mean&quot;\\n  input: &quot;features/bn/AssignMovingAvg/mul&quot;\\n  attr {\\n    key: &quot;T&quot;\\n    value {\\n      type: DT_FLOAT\\n    }\\n  }\\n  attr {\\n    key: &quot;_class&quot;\\n    value {\\n      list {\\n        s: &quot;loc:@features_bn/moving_mean&quot;\\n      }\\n    }\\n  }\\n  attr {\\n    key: &quot;use_locking&quot;\\n    value {\\n      b: false\\n    }\\n  }\\n}\\nnode {\\n  name: &quot;features/bn/AssignMovingAvg_1/decay&quot;\\n  op: &quot;Const&quot;\\n  attr {\\n    key: &quot;_class&quot;\\n    value {\\n      list {\\n        s: &quot;loc:@features_bn/moving_variance&quot;\\n      }\\n    }\\n  }\\n  attr {\\n    key: &quot;dtype&quot;\\n    value {\\n      type: DT_FLOAT\\n    }\\n  }\\n  attr {\\n    key: &quot;value&quot;\\n    value {\\n      tensor {\\n        dtype: DT_FLOAT\\n        tensor_shape {\\n        }\\n        float_val: 0.0010000000474974513\\n      }\\n    }\\n  }\\n}\\nnode {\\n  name: &quot;features/bn/AssignMovingAvg_1/sub&quot;\\n  op: &quot;Sub&quot;\\n  input: &quot;features/bn/moving_variance/read&quot;\\n  input: &quot;features/bn/FusedBatchNorm:2&quot;\\n  attr {\\n    key: &quot;T&quot;\\n    value {\\n      type: DT_FLOAT\\n    }\\n  }\\n  attr {\\n    key: &quot;_class&quot;\\n    value {\\n      list {\\n        s: &quot;loc:@features_bn/moving_variance&quot;\\n      }\\n    }\\n  }\\n}\\nnode {\\n  name: &quot;features/bn/AssignMovingAvg_1/mul&quot;\\n  op: &quot;Mul&quot;\\n  input: &quot;features/bn/AssignMovingAvg_1/sub&quot;\\n  input: &quot;features/bn/AssignMovingAvg_1/decay&quot;\\n  attr {\\n    key: &quot;T&quot;\\n    value {\\n      type: DT_FLOAT\\n    }\\n  }\\n  attr {\\n    key: &quot;_class&quot;\\n    value {\\n      list {\\n        s: &quot;loc:@features_bn/moving_variance&quot;\\n      }\\n    }\\n  }\\n}\\nnode {\\n  name: &quot;features/bn/AssignMovingAvg_1&quot;\\n  op: &quot;AssignSub&quot;\\n  input: &quot;features/bn/moving_variance&quot;\\n  input: &quot;features/bn/AssignMovingAvg_1/mul&quot;\\n  attr {\\n    key: &quot;T&quot;\\n    value {\\n      type: DT_FLOAT\\n    }\\n  }\\n  attr {\\n    key: &quot;_class&quot;\\n    value {\\n      list {\\n        s: &quot;loc:@features_bn/moving_variance&quot;\\n      }\\n    }\\n  }\\n  attr {\\n    key: &quot;use_locking&quot;\\n    value {\\n      b: false\\n    }\\n  }\\n}\\nnode {\\n  name: &quot;features/bn/Shape&quot;\\n  op: &quot;Shape&quot;\\n  input: &quot;features&quot;\\n  attr {\\n    key: &quot;T&quot;\\n    value {\\n      type: DT_FLOAT\\n    }\\n  }\\n  attr {\\n    key: &quot;out_type&quot;\\n    value {\\n      type: DT_INT32\\n    }\\n  }\\n}\\nnode {\\n  name: &quot;features/bn/Reshape_1&quot;\\n  op: &quot;Reshape&quot;\\n  input: &quot;features/bn/FusedBatchNorm&quot;\\n  input: &quot;features/bn/Shape&quot;\\n  attr {\\n    key: &quot;T&quot;\\n    value {\\n      type: DT_FLOAT\\n    }\\n  }\\n  attr {\\n    key: &quot;Tshape&quot;\\n    value {\\n      type: DT_INT32\\n    }\\n  }\\n}\\nnode {\\n  name: &quot;l1/weights/Initializer/random/uniform/shape&quot;\\n  op: &quot;Const&quot;\\n  attr {\\n    key: &quot;_class&quot;\\n    value {\\n      list {\\n        s: &quot;loc:@l1/weights&quot;\\n      }\\n    }\\n  }\\n  attr {\\n    key: &quot;dtype&quot;\\n    value {\\n      type: DT_INT32\\n    }\\n  }\\n  attr {\\n    key: &quot;value&quot;\\n    value {\\n      tensor {\\n        dtype: DT_INT32\\n        tensor_shape {\\n          dim {\\n            size: 2\\n          }\\n        }\\n        tensor_content: &quot;\\\\250\\\\000\\\\000\\\\000 \\\\000\\\\000\\\\000&quot;\\n      }\\n    }\\n  }\\n}\\nnode {\\n  name: &quot;l1/weights/Initializer/random/uniform/min&quot;\\n  op: &quot;Const&quot;\\n  attr {\\n    key: &quot;_class&quot;\\n    value {\\n      list {\\n        s: &quot;loc:@l1/weights&quot;\\n      }\\n    }\\n  }\\n  attr {\\n    key: &quot;dtype&quot;\\n    value {\\n      type: DT_FLOAT\\n    }\\n  }\\n  attr {\\n    key: &quot;value&quot;\\n    value {\\n      tensor {\\n        dtype: DT_FLOAT\\n        tensor_shape {\\n        }\\n        float_val: -0.17320507764816284\\n      }\\n    }\\n  }\\n}\\nnode {\\n  name: &quot;l1/weights/Initializer/random/uniform/max&quot;\\n  op: &quot;Const&quot;\\n  attr {\\n    key: &quot;_class&quot;\\n    value {\\n      list {\\n        s: &quot;loc:@l1/weights&quot;\\n      }\\n    }\\n  }\\n  attr {\\n    key: &quot;dtype&quot;\\n    value {\\n      type: DT_FLOAT\\n    }\\n  }\\n  attr {\\n    key: &quot;value&quot;\\n    value {\\n      tensor {\\n        dtype: DT_FLOAT\\n        tensor_shape {\\n        }\\n        float_val: 0.17320507764816284\\n      }\\n    }\\n  }\\n}\\nnode {\\n  name: &quot;l1/weights/Initializer/random/uniform/RandomUniform&quot;\\n  op: &quot;RandomUniform&quot;\\n  input: &quot;l1/weights/Initializer/random/uniform/shape&quot;\\n  attr {\\n    key: &quot;T&quot;\\n    value {\\n      type: DT_INT32\\n    }\\n  }\\n  attr {\\n    key: &quot;_class&quot;\\n    value {\\n      list {\\n        s: &quot;loc:@l1/weights&quot;\\n      }\\n    }\\n  }\\n  attr {\\n    key: &quot;dtype&quot;\\n    value {\\n      type: DT_FLOAT\\n    }\\n  }\\n  attr {\\n    key: &quot;seed&quot;\\n    value {\\n      i: 0\\n    }\\n  }\\n  attr {\\n    key: &quot;seed2&quot;\\n    value {\\n      i: 0\\n    }\\n  }\\n}\\nnode {\\n  name: &quot;l1/weights/Initializer/random/uniform/sub&quot;\\n  op: &quot;Sub&quot;\\n  input: &quot;l1/weights/Initializer/random/uniform/max&quot;\\n  input: &quot;l1/weights/Initializer/random/uniform/min&quot;\\n  attr {\\n    key: &quot;T&quot;\\n    value {\\n      type: DT_FLOAT\\n    }\\n  }\\n  attr {\\n    key: &quot;_class&quot;\\n    value {\\n      list {\\n        s: &quot;loc:@l1/weights&quot;\\n      }\\n    }\\n  }\\n}\\nnode {\\n  name: &quot;l1/weights/Initializer/random/uniform/mul&quot;\\n  op: &quot;Mul&quot;\\n  input: &quot;l1/weights/Initializer/random/uniform/RandomUniform&quot;\\n  input: &quot;l1/weights/Initializer/random/uniform/sub&quot;\\n  attr {\\n    key: &quot;T&quot;\\n    value {\\n      type: DT_FLOAT\\n    }\\n  }\\n  attr {\\n    key: &quot;_class&quot;\\n    value {\\n      list {\\n        s: &quot;loc:@l1/weights&quot;\\n      }\\n    }\\n  }\\n}\\nnode {\\n  name: &quot;l1/weights/Initializer/random/uniform&quot;\\n  op: &quot;Add&quot;\\n  input: &quot;l1/weights/Initializer/random/uniform/mul&quot;\\n  input: &quot;l1/weights/Initializer/random/uniform/min&quot;\\n  attr {\\n    key: &quot;T&quot;\\n    value {\\n      type: DT_FLOAT\\n    }\\n  }\\n  attr {\\n    key: &quot;_class&quot;\\n    value {\\n      list {\\n        s: &quot;loc:@l1/weights&quot;\\n      }\\n    }\\n  }\\n}\\nnode {\\n  name: &quot;l1/weights&quot;\\n  op: &quot;VariableV2&quot;\\n  attr {\\n    key: &quot;_class&quot;\\n    value {\\n      list {\\n        s: &quot;loc:@l1/weights&quot;\\n      }\\n    }\\n  }\\n  attr {\\n    key: &quot;container&quot;\\n    value {\\n      s: &quot;&quot;\\n    }\\n  }\\n  attr {\\n    key: &quot;dtype&quot;\\n    value {\\n      type: DT_FLOAT\\n    }\\n  }\\n  attr {\\n    key: &quot;shape&quot;\\n    value {\\n      shape {\\n        dim {\\n          size: 168\\n        }\\n        dim {\\n          size: 32\\n        }\\n      }\\n    }\\n  }\\n  attr {\\n    key: &quot;shared_name&quot;\\n    value {\\n      s: &quot;&quot;\\n    }\\n  }\\n}\\nnode {\\n  name: &quot;l1/weights/Assign&quot;\\n  op: &quot;Assign&quot;\\n  input: &quot;l1/weights&quot;\\n  input: &quot;l1/weights/Initializer/random/uniform&quot;\\n  attr {\\n    key: &quot;T&quot;\\n    value {\\n      type: DT_FLOAT\\n    }\\n  }\\n  attr {\\n    key: &quot;_class&quot;\\n    value {\\n      list {\\n        s: &quot;loc:@l1/weights&quot;\\n      }\\n    }\\n  }\\n  attr {\\n    key: &quot;use_locking&quot;\\n    value {\\n      b: true\\n    }\\n  }\\n  attr {\\n    key: &quot;validate_shape&quot;\\n    value {\\n      b: true\\n    }\\n  }\\n}\\nnode {\\n  name: &quot;l1/weights/read&quot;\\n  op: &quot;Identity&quot;\\n  input: &quot;l1/weights&quot;\\n  attr {\\n    key: &quot;T&quot;\\n    value {\\n      type: DT_FLOAT\\n    }\\n  }\\n  attr {\\n    key: &quot;_class&quot;\\n    value {\\n      list {\\n        s: &quot;loc:@l1/weights&quot;\\n      }\\n    }\\n  }\\n}\\nnode {\\n  name: &quot;l1/MatMul&quot;\\n  op: &quot;MatMul&quot;\\n  input: &quot;features/bn/Reshape_1&quot;\\n  input: &quot;l1/weights/read&quot;\\n  attr {\\n    key: &quot;T&quot;\\n    value {\\n      type: DT_FLOAT\\n    }\\n  }\\n  attr {\\n    key: &quot;transpose_a&quot;\\n    value {\\n      b: false\\n    }\\n  }\\n  attr {\\n    key: &quot;transpose_b&quot;\\n    value {\\n      b: false\\n    }\\n  }\\n}\\nnode {\\n  name: &quot;l1/BatchNorm/Reshape/shape&quot;\\n  op: &quot;Const&quot;\\n  attr {\\n    key: &quot;dtype&quot;\\n    value {\\n      type: DT_INT32\\n    }\\n  }\\n  attr {\\n    key: &quot;value&quot;\\n    value {\\n      tensor {\\n        dtype: DT_INT32\\n        tensor_shape {\\n          dim {\\n            size: 4\\n          }\\n        }\\n        tensor_content: &quot;\\\\377\\\\377\\\\377\\\\377\\\\001\\\\000\\\\000\\\\000\\\\001\\\\000\\\\000\\\\000 \\\\000\\\\000\\\\000&quot;\\n      }\\n    }\\n  }\\n}\\nnode {\\n  name: &quot;l1/BatchNorm/Reshape&quot;\\n  op: &quot;Reshape&quot;\\n  input: &quot;l1/MatMul&quot;\\n  input: &quot;l1/BatchNorm/Reshape/shape&quot;\\n  attr {\\n    key: &quot;T&quot;\\n    value {\\n      type: DT_FLOAT\\n    }\\n  }\\n  attr {\\n    key: &quot;Tshape&quot;\\n    value {\\n      type: DT_INT32\\n    }\\n  }\\n}\\nnode {\\n  name: &quot;l1/BatchNorm/beta/Initializer/zeros&quot;\\n  op: &quot;Const&quot;\\n  attr {\\n    key: &quot;_class&quot;\\n    value {\\n      list {\\n        s: &quot;loc:@l1/BatchNorm/beta&quot;\\n      }\\n    }\\n  }\\n  attr {\\n    key: &quot;dtype&quot;\\n    value {\\n      type: DT_FLOAT\\n    }\\n  }\\n  attr {\\n    key: &quot;value&quot;\\n    value {\\n      tensor {\\n        dtype: DT_FLOAT\\n        tensor_shape {\\n          dim {\\n            size: 32\\n          }\\n        }\\n        float_val: 0.0\\n      }\\n    }\\n  }\\n}\\nnode {\\n  name: &quot;l1/BatchNorm/beta&quot;\\n  op: &quot;VariableV2&quot;\\n  attr {\\n    key: &quot;_class&quot;\\n    value {\\n      list {\\n        s: &quot;loc:@l1/BatchNorm/beta&quot;\\n      }\\n    }\\n  }\\n  attr {\\n    key: &quot;container&quot;\\n    value {\\n      s: &quot;&quot;\\n    }\\n  }\\n  attr {\\n    key: &quot;dtype&quot;\\n    value {\\n      type: DT_FLOAT\\n    }\\n  }\\n  attr {\\n    key: &quot;shape&quot;\\n    value {\\n      shape {\\n        dim {\\n          size: 32\\n        }\\n      }\\n    }\\n  }\\n  attr {\\n    key: &quot;shared_name&quot;\\n    value {\\n      s: &quot;&quot;\\n    }\\n  }\\n}\\nnode {\\n  name: &quot;l1/BatchNorm/beta/Assign&quot;\\n  op: &quot;Assign&quot;\\n  input: &quot;l1/BatchNorm/beta&quot;\\n  input: &quot;l1/BatchNorm/beta/Initializer/zeros&quot;\\n  attr {\\n    key: &quot;T&quot;\\n    value {\\n      type: DT_FLOAT\\n    }\\n  }\\n  attr {\\n    key: &quot;_class&quot;\\n    value {\\n      list {\\n        s: &quot;loc:@l1/BatchNorm/beta&quot;\\n      }\\n    }\\n  }\\n  attr {\\n    key: &quot;use_locking&quot;\\n    value {\\n      b: true\\n    }\\n  }\\n  attr {\\n    key: &quot;validate_shape&quot;\\n    value {\\n      b: true\\n    }\\n  }\\n}\\nnode {\\n  name: &quot;l1/BatchNorm/beta/read&quot;\\n  op: &quot;Identity&quot;\\n  input: &quot;l1/BatchNorm/beta&quot;\\n  attr {\\n    key: &quot;T&quot;\\n    value {\\n      type: DT_FLOAT\\n    }\\n  }\\n  attr {\\n    key: &quot;_class&quot;\\n    value {\\n      list {\\n        s: &quot;loc:@l1/BatchNorm/beta&quot;\\n      }\\n    }\\n  }\\n}\\nnode {\\n  name: &quot;l1/BatchNorm/Const&quot;\\n  op: &quot;Const&quot;\\n  attr {\\n    key: &quot;dtype&quot;\\n    value {\\n      type: DT_FLOAT\\n    }\\n  }\\n  attr {\\n    key: &quot;value&quot;\\n    value {\\n      tensor {\\n        dtype: DT_FLOAT\\n        tensor_shape {\\n          dim {\\n            size: 32\\n          }\\n        }\\n        float_val: 1.0\\n      }\\n    }\\n  }\\n}\\nnode {\\n  name: &quot;l1/BatchNorm/moving/mean/Initializer/zeros&quot;\\n  op: &quot;Const&quot;\\n  attr {\\n    key: &quot;_class&quot;\\n    value {\\n      list {\\n        s: &quot;loc:@l1/BatchNorm/moving_mean&quot;\\n      }\\n    }\\n  }\\n  attr {\\n    key: &quot;dtype&quot;\\n    value {\\n      type: DT_FLOAT\\n    }\\n  }\\n  attr {\\n    key: &quot;value&quot;\\n    value {\\n      tensor {\\n        dtype: DT_FLOAT\\n        tensor_shape {\\n          dim {\\n            size: 32\\n          }\\n        }\\n        float_val: 0.0\\n      }\\n    }\\n  }\\n}\\nnode {\\n  name: &quot;l1/BatchNorm/moving/mean&quot;\\n  op: &quot;VariableV2&quot;\\n  attr {\\n    key: &quot;_class&quot;\\n    value {\\n      list {\\n        s: &quot;loc:@l1/BatchNorm/moving_mean&quot;\\n      }\\n    }\\n  }\\n  attr {\\n    key: &quot;container&quot;\\n    value {\\n      s: &quot;&quot;\\n    }\\n  }\\n  attr {\\n    key: &quot;dtype&quot;\\n    value {\\n      type: DT_FLOAT\\n    }\\n  }\\n  attr {\\n    key: &quot;shape&quot;\\n    value {\\n      shape {\\n        dim {\\n          size: 32\\n        }\\n      }\\n    }\\n  }\\n  attr {\\n    key: &quot;shared_name&quot;\\n    value {\\n      s: &quot;&quot;\\n    }\\n  }\\n}\\nnode {\\n  name: &quot;l1/BatchNorm/moving/mean/Assign&quot;\\n  op: &quot;Assign&quot;\\n  input: &quot;l1/BatchNorm/moving/mean&quot;\\n  input: &quot;l1/BatchNorm/moving/mean/Initializer/zeros&quot;\\n  attr {\\n    key: &quot;T&quot;\\n    value {\\n      type: DT_FLOAT\\n    }\\n  }\\n  attr {\\n    key: &quot;_class&quot;\\n    value {\\n      list {\\n        s: &quot;loc:@l1/BatchNorm/moving_mean&quot;\\n      }\\n    }\\n  }\\n  attr {\\n    key: &quot;use_locking&quot;\\n    value {\\n      b: true\\n    }\\n  }\\n  attr {\\n    key: &quot;validate_shape&quot;\\n    value {\\n      b: true\\n    }\\n  }\\n}\\nnode {\\n  name: &quot;l1/BatchNorm/moving/mean/read&quot;\\n  op: &quot;Identity&quot;\\n  input: &quot;l1/BatchNorm/moving/mean&quot;\\n  attr {\\n    key: &quot;T&quot;\\n    value {\\n      type: DT_FLOAT\\n    }\\n  }\\n  attr {\\n    key: &quot;_class&quot;\\n    value {\\n      list {\\n        s: &quot;loc:@l1/BatchNorm/moving_mean&quot;\\n      }\\n    }\\n  }\\n}\\nnode {\\n  name: &quot;l1/BatchNorm/moving/variance/Initializer/ones&quot;\\n  op: &quot;Const&quot;\\n  attr {\\n    key: &quot;_class&quot;\\n    value {\\n      list {\\n        s: &quot;loc:@l1/BatchNorm/moving_variance&quot;\\n      }\\n    }\\n  }\\n  attr {\\n    key: &quot;dtype&quot;\\n    value {\\n      type: DT_FLOAT\\n    }\\n  }\\n  attr {\\n    key: &quot;value&quot;\\n    value {\\n      tensor {\\n        dtype: DT_FLOAT\\n        tensor_shape {\\n          dim {\\n            size: 32\\n          }\\n        }\\n        float_val: 1.0\\n      }\\n    }\\n  }\\n}\\nnode {\\n  name: &quot;l1/BatchNorm/moving/variance&quot;\\n  op: &quot;VariableV2&quot;\\n  attr {\\n    key: &quot;_class&quot;\\n    value {\\n      list {\\n        s: &quot;loc:@l1/BatchNorm/moving_variance&quot;\\n      }\\n    }\\n  }\\n  attr {\\n    key: &quot;container&quot;\\n    value {\\n      s: &quot;&quot;\\n    }\\n  }\\n  attr {\\n    key: &quot;dtype&quot;\\n    value {\\n      type: DT_FLOAT\\n    }\\n  }\\n  attr {\\n    key: &quot;shape&quot;\\n    value {\\n      shape {\\n        dim {\\n          size: 32\\n        }\\n      }\\n    }\\n  }\\n  attr {\\n    key: &quot;shared_name&quot;\\n    value {\\n      s: &quot;&quot;\\n    }\\n  }\\n}\\nnode {\\n  name: &quot;l1/BatchNorm/moving/variance/Assign&quot;\\n  op: &quot;Assign&quot;\\n  input: &quot;l1/BatchNorm/moving/variance&quot;\\n  input: &quot;l1/BatchNorm/moving/variance/Initializer/ones&quot;\\n  attr {\\n    key: &quot;T&quot;\\n    value {\\n      type: DT_FLOAT\\n    }\\n  }\\n  attr {\\n    key: &quot;_class&quot;\\n    value {\\n      list {\\n        s: &quot;loc:@l1/BatchNorm/moving_variance&quot;\\n      }\\n    }\\n  }\\n  attr {\\n    key: &quot;use_locking&quot;\\n    value {\\n      b: true\\n    }\\n  }\\n  attr {\\n    key: &quot;validate_shape&quot;\\n    value {\\n      b: true\\n    }\\n  }\\n}\\nnode {\\n  name: &quot;l1/BatchNorm/moving/variance/read&quot;\\n  op: &quot;Identity&quot;\\n  input: &quot;l1/BatchNorm/moving/variance&quot;\\n  attr {\\n    key: &quot;T&quot;\\n    value {\\n      type: DT_FLOAT\\n    }\\n  }\\n  attr {\\n    key: &quot;_class&quot;\\n    value {\\n      list {\\n        s: &quot;loc:@l1/BatchNorm/moving_variance&quot;\\n      }\\n    }\\n  }\\n}\\nnode {\\n  name: &quot;l1/BatchNorm/Const/1&quot;\\n  op: &quot;Const&quot;\\n  attr {\\n    key: &quot;dtype&quot;\\n    value {\\n      type: DT_FLOAT\\n    }\\n  }\\n  attr {\\n    key: &quot;value&quot;\\n    value {\\n      tensor {\\n        dtype: DT_FLOAT\\n        tensor_shape {\\n          dim {\\n          }\\n        }\\n      }\\n    }\\n  }\\n}\\nnode {\\n  name: &quot;l1/BatchNorm/Const/2&quot;\\n  op: &quot;Const&quot;\\n  attr {\\n    key: &quot;dtype&quot;\\n    value {\\n      type: DT_FLOAT\\n    }\\n  }\\n  attr {\\n    key: &quot;value&quot;\\n    value {\\n      tensor {\\n        dtype: DT_FLOAT\\n        tensor_shape {\\n          dim {\\n          }\\n        }\\n      }\\n    }\\n  }\\n}\\nnode {\\n  name: &quot;l1/BatchNorm/FusedBatchNorm&quot;\\n  op: &quot;FusedBatchNorm&quot;\\n  input: &quot;l1/BatchNorm/Reshape&quot;\\n  input: &quot;l1/BatchNorm/Const&quot;\\n  input: &quot;l1/BatchNorm/beta/read&quot;\\n  input: &quot;l1/BatchNorm/Const/1&quot;\\n  input: &quot;l1/BatchNorm/Const/2&quot;\\n  attr {\\n    key: &quot;T&quot;\\n    value {\\n      type: DT_FLOAT\\n    }\\n  }\\n  attr {\\n    key: &quot;data_format&quot;\\n    value {\\n      s: &quot;NHWC&quot;\\n    }\\n  }\\n  attr {\\n    key: &quot;epsilon&quot;\\n    value {\\n      f: 0.0010000000474974513\\n    }\\n  }\\n  attr {\\n    key: &quot;is_training&quot;\\n    value {\\n      b: true\\n    }\\n  }\\n}\\nnode {\\n  name: &quot;l1/BatchNorm/AssignMovingAvg/decay&quot;\\n  op: &quot;Const&quot;\\n  attr {\\n    key: &quot;_class&quot;\\n    value {\\n      list {\\n        s: &quot;loc:@l1/BatchNorm/moving_mean&quot;\\n      }\\n    }\\n  }\\n  attr {\\n    key: &quot;dtype&quot;\\n    value {\\n      type: DT_FLOAT\\n    }\\n  }\\n  attr {\\n    key: &quot;value&quot;\\n    value {\\n      tensor {\\n        dtype: DT_FLOAT\\n        tensor_shape {\\n        }\\n        float_val: 0.0010000000474974513\\n      }\\n    }\\n  }\\n}\\nnode {\\n  name: &quot;l1/BatchNorm/AssignMovingAvg/sub&quot;\\n  op: &quot;Sub&quot;\\n  input: &quot;l1/BatchNorm/moving/mean/read&quot;\\n  input: &quot;l1/BatchNorm/FusedBatchNorm:1&quot;\\n  attr {\\n    key: &quot;T&quot;\\n    value {\\n      type: DT_FLOAT\\n    }\\n  }\\n  attr {\\n    key: &quot;_class&quot;\\n    value {\\n      list {\\n        s: &quot;loc:@l1/BatchNorm/moving_mean&quot;\\n      }\\n    }\\n  }\\n}\\nnode {\\n  name: &quot;l1/BatchNorm/AssignMovingAvg/mul&quot;\\n  op: &quot;Mul&quot;\\n  input: &quot;l1/BatchNorm/AssignMovingAvg/sub&quot;\\n  input: &quot;l1/BatchNorm/AssignMovingAvg/decay&quot;\\n  attr {\\n    key: &quot;T&quot;\\n    value {\\n      type: DT_FLOAT\\n    }\\n  }\\n  attr {\\n    key: &quot;_class&quot;\\n    value {\\n      list {\\n        s: &quot;loc:@l1/BatchNorm/moving_mean&quot;\\n      }\\n    }\\n  }\\n}\\nnode {\\n  name: &quot;l1/BatchNorm/AssignMovingAvg&quot;\\n  op: &quot;AssignSub&quot;\\n  input: &quot;l1/BatchNorm/moving/mean&quot;\\n  input: &quot;l1/BatchNorm/AssignMovingAvg/mul&quot;\\n  attr {\\n    key: &quot;T&quot;\\n    value {\\n      type: DT_FLOAT\\n    }\\n  }\\n  attr {\\n    key: &quot;_class&quot;\\n    value {\\n      list {\\n        s: &quot;loc:@l1/BatchNorm/moving_mean&quot;\\n      }\\n    }\\n  }\\n  attr {\\n    key: &quot;use_locking&quot;\\n    value {\\n      b: false\\n    }\\n  }\\n}\\nnode {\\n  name: &quot;l1/BatchNorm/AssignMovingAvg/1/decay&quot;\\n  op: &quot;Const&quot;\\n  attr {\\n    key: &quot;_class&quot;\\n    value {\\n      list {\\n        s: &quot;loc:@l1/BatchNorm/moving_variance&quot;\\n      }\\n    }\\n  }\\n  attr {\\n    key: &quot;dtype&quot;\\n    value {\\n      type: DT_FLOAT\\n    }\\n  }\\n  attr {\\n    key: &quot;value&quot;\\n    value {\\n      tensor {\\n        dtype: DT_FLOAT\\n        tensor_shape {\\n        }\\n        float_val: 0.0010000000474974513\\n      }\\n    }\\n  }\\n}\\nnode {\\n  name: &quot;l1/BatchNorm/AssignMovingAvg/1/sub&quot;\\n  op: &quot;Sub&quot;\\n  input: &quot;l1/BatchNorm/moving/variance/read&quot;\\n  input: &quot;l1/BatchNorm/FusedBatchNorm:2&quot;\\n  attr {\\n    key: &quot;T&quot;\\n    value {\\n      type: DT_FLOAT\\n    }\\n  }\\n  attr {\\n    key: &quot;_class&quot;\\n    value {\\n      list {\\n        s: &quot;loc:@l1/BatchNorm/moving_variance&quot;\\n      }\\n    }\\n  }\\n}\\nnode {\\n  name: &quot;l1/BatchNorm/AssignMovingAvg/1/mul&quot;\\n  op: &quot;Mul&quot;\\n  input: &quot;l1/BatchNorm/AssignMovingAvg/1/sub&quot;\\n  input: &quot;l1/BatchNorm/AssignMovingAvg/1/decay&quot;\\n  attr {\\n    key: &quot;T&quot;\\n    value {\\n      type: DT_FLOAT\\n    }\\n  }\\n  attr {\\n    key: &quot;_class&quot;\\n    value {\\n      list {\\n        s: &quot;loc:@l1/BatchNorm/moving_variance&quot;\\n      }\\n    }\\n  }\\n}\\nnode {\\n  name: &quot;l1/BatchNorm/AssignMovingAvg/1&quot;\\n  op: &quot;AssignSub&quot;\\n  input: &quot;l1/BatchNorm/moving/variance&quot;\\n  input: &quot;l1/BatchNorm/AssignMovingAvg/1/mul&quot;\\n  attr {\\n    key: &quot;T&quot;\\n    value {\\n      type: DT_FLOAT\\n    }\\n  }\\n  attr {\\n    key: &quot;_class&quot;\\n    value {\\n      list {\\n        s: &quot;loc:@l1/BatchNorm/moving_variance&quot;\\n      }\\n    }\\n  }\\n  attr {\\n    key: &quot;use_locking&quot;\\n    value {\\n      b: false\\n    }\\n  }\\n}\\nnode {\\n  name: &quot;l1/BatchNorm/Shape&quot;\\n  op: &quot;Shape&quot;\\n  input: &quot;l1/MatMul&quot;\\n  attr {\\n    key: &quot;T&quot;\\n    value {\\n      type: DT_FLOAT\\n    }\\n  }\\n  attr {\\n    key: &quot;out_type&quot;\\n    value {\\n      type: DT_INT32\\n    }\\n  }\\n}\\nnode {\\n  name: &quot;l1/BatchNorm/Reshape/1&quot;\\n  op: &quot;Reshape&quot;\\n  input: &quot;l1/BatchNorm/FusedBatchNorm&quot;\\n  input: &quot;l1/BatchNorm/Shape&quot;\\n  attr {\\n    key: &quot;T&quot;\\n    value {\\n      type: DT_FLOAT\\n    }\\n  }\\n  attr {\\n    key: &quot;Tshape&quot;\\n    value {\\n      type: DT_INT32\\n    }\\n  }\\n}\\nnode {\\n  name: &quot;l1/Relu&quot;\\n  op: &quot;Relu&quot;\\n  input: &quot;l1/BatchNorm/Reshape/1&quot;\\n  attr {\\n    key: &quot;T&quot;\\n    value {\\n      type: DT_FLOAT\\n    }\\n  }\\n}\\nnode {\\n  name: &quot;y/weights/Initializer/random/uniform/shape&quot;\\n  op: &quot;Const&quot;\\n  attr {\\n    key: &quot;_class&quot;\\n    value {\\n      list {\\n        s: &quot;loc:@y/weights&quot;\\n      }\\n    }\\n  }\\n  attr {\\n    key: &quot;dtype&quot;\\n    value {\\n      type: DT_INT32\\n    }\\n  }\\n  attr {\\n    key: &quot;value&quot;\\n    value {\\n      tensor {\\n        dtype: DT_INT32\\n        tensor_shape {\\n          dim {\\n            size: 2\\n          }\\n        }\\n        tensor_content: &quot; \\\\000\\\\000\\\\000\\\\002\\\\000\\\\000\\\\000&quot;\\n      }\\n    }\\n  }\\n}\\nnode {\\n  name: &quot;y/weights/Initializer/random/uniform/min&quot;\\n  op: &quot;Const&quot;\\n  attr {\\n    key: &quot;_class&quot;\\n    value {\\n      list {\\n        s: &quot;loc:@y/weights&quot;\\n      }\\n    }\\n  }\\n  attr {\\n    key: &quot;dtype&quot;\\n    value {\\n      type: DT_FLOAT\\n    }\\n  }\\n  attr {\\n    key: &quot;value&quot;\\n    value {\\n      tensor {\\n        dtype: DT_FLOAT\\n        tensor_shape {\\n        }\\n        float_val: -0.42008402943611145\\n      }\\n    }\\n  }\\n}\\nnode {\\n  name: &quot;y/weights/Initializer/random/uniform/max&quot;\\n  op: &quot;Const&quot;\\n  attr {\\n    key: &quot;_class&quot;\\n    value {\\n      list {\\n        s: &quot;loc:@y/weights&quot;\\n      }\\n    }\\n  }\\n  attr {\\n    key: &quot;dtype&quot;\\n    value {\\n      type: DT_FLOAT\\n    }\\n  }\\n  attr {\\n    key: &quot;value&quot;\\n    value {\\n      tensor {\\n        dtype: DT_FLOAT\\n        tensor_shape {\\n        }\\n        float_val: 0.42008402943611145\\n      }\\n    }\\n  }\\n}\\nnode {\\n  name: &quot;y/weights/Initializer/random/uniform/RandomUniform&quot;\\n  op: &quot;RandomUniform&quot;\\n  input: &quot;y/weights/Initializer/random/uniform/shape&quot;\\n  attr {\\n    key: &quot;T&quot;\\n    value {\\n      type: DT_INT32\\n    }\\n  }\\n  attr {\\n    key: &quot;_class&quot;\\n    value {\\n      list {\\n        s: &quot;loc:@y/weights&quot;\\n      }\\n    }\\n  }\\n  attr {\\n    key: &quot;dtype&quot;\\n    value {\\n      type: DT_FLOAT\\n    }\\n  }\\n  attr {\\n    key: &quot;seed&quot;\\n    value {\\n      i: 0\\n    }\\n  }\\n  attr {\\n    key: &quot;seed2&quot;\\n    value {\\n      i: 0\\n    }\\n  }\\n}\\nnode {\\n  name: &quot;y/weights/Initializer/random/uniform/sub&quot;\\n  op: &quot;Sub&quot;\\n  input: &quot;y/weights/Initializer/random/uniform/max&quot;\\n  input: &quot;y/weights/Initializer/random/uniform/min&quot;\\n  attr {\\n    key: &quot;T&quot;\\n    value {\\n      type: DT_FLOAT\\n    }\\n  }\\n  attr {\\n    key: &quot;_class&quot;\\n    value {\\n      list {\\n        s: &quot;loc:@y/weights&quot;\\n      }\\n    }\\n  }\\n}\\nnode {\\n  name: &quot;y/weights/Initializer/random/uniform/mul&quot;\\n  op: &quot;Mul&quot;\\n  input: &quot;y/weights/Initializer/random/uniform/RandomUniform&quot;\\n  input: &quot;y/weights/Initializer/random/uniform/sub&quot;\\n  attr {\\n    key: &quot;T&quot;\\n    value {\\n      type: DT_FLOAT\\n    }\\n  }\\n  attr {\\n    key: &quot;_class&quot;\\n    value {\\n      list {\\n        s: &quot;loc:@y/weights&quot;\\n      }\\n    }\\n  }\\n}\\nnode {\\n  name: &quot;y/weights/Initializer/random/uniform&quot;\\n  op: &quot;Add&quot;\\n  input: &quot;y/weights/Initializer/random/uniform/mul&quot;\\n  input: &quot;y/weights/Initializer/random/uniform/min&quot;\\n  attr {\\n    key: &quot;T&quot;\\n    value {\\n      type: DT_FLOAT\\n    }\\n  }\\n  attr {\\n    key: &quot;_class&quot;\\n    value {\\n      list {\\n        s: &quot;loc:@y/weights&quot;\\n      }\\n    }\\n  }\\n}\\nnode {\\n  name: &quot;y/weights&quot;\\n  op: &quot;VariableV2&quot;\\n  attr {\\n    key: &quot;_class&quot;\\n    value {\\n      list {\\n        s: &quot;loc:@y/weights&quot;\\n      }\\n    }\\n  }\\n  attr {\\n    key: &quot;container&quot;\\n    value {\\n      s: &quot;&quot;\\n    }\\n  }\\n  attr {\\n    key: &quot;dtype&quot;\\n    value {\\n      type: DT_FLOAT\\n    }\\n  }\\n  attr {\\n    key: &quot;shape&quot;\\n    value {\\n      shape {\\n        dim {\\n          size: 32\\n        }\\n        dim {\\n          size: 2\\n        }\\n      }\\n    }\\n  }\\n  attr {\\n    key: &quot;shared_name&quot;\\n    value {\\n      s: &quot;&quot;\\n    }\\n  }\\n}\\nnode {\\n  name: &quot;y/weights/Assign&quot;\\n  op: &quot;Assign&quot;\\n  input: &quot;y/weights&quot;\\n  input: &quot;y/weights/Initializer/random/uniform&quot;\\n  attr {\\n    key: &quot;T&quot;\\n    value {\\n      type: DT_FLOAT\\n    }\\n  }\\n  attr {\\n    key: &quot;_class&quot;\\n    value {\\n      list {\\n        s: &quot;loc:@y/weights&quot;\\n      }\\n    }\\n  }\\n  attr {\\n    key: &quot;use_locking&quot;\\n    value {\\n      b: true\\n    }\\n  }\\n  attr {\\n    key: &quot;validate_shape&quot;\\n    value {\\n      b: true\\n    }\\n  }\\n}\\nnode {\\n  name: &quot;y/weights/read&quot;\\n  op: &quot;Identity&quot;\\n  input: &quot;y/weights&quot;\\n  attr {\\n    key: &quot;T&quot;\\n    value {\\n      type: DT_FLOAT\\n    }\\n  }\\n  attr {\\n    key: &quot;_class&quot;\\n    value {\\n      list {\\n        s: &quot;loc:@y/weights&quot;\\n      }\\n    }\\n  }\\n}\\nnode {\\n  name: &quot;y/biases/Initializer/zeros&quot;\\n  op: &quot;Const&quot;\\n  attr {\\n    key: &quot;_class&quot;\\n    value {\\n      list {\\n        s: &quot;loc:@y/biases&quot;\\n      }\\n    }\\n  }\\n  attr {\\n    key: &quot;dtype&quot;\\n    value {\\n      type: DT_FLOAT\\n    }\\n  }\\n  attr {\\n    key: &quot;value&quot;\\n    value {\\n      tensor {\\n        dtype: DT_FLOAT\\n        tensor_shape {\\n          dim {\\n            size: 2\\n          }\\n        }\\n        float_val: 0.0\\n      }\\n    }\\n  }\\n}\\nnode {\\n  name: &quot;y/biases&quot;\\n  op: &quot;VariableV2&quot;\\n  attr {\\n    key: &quot;_class&quot;\\n    value {\\n      list {\\n        s: &quot;loc:@y/biases&quot;\\n      }\\n    }\\n  }\\n  attr {\\n    key: &quot;container&quot;\\n    value {\\n      s: &quot;&quot;\\n    }\\n  }\\n  attr {\\n    key: &quot;dtype&quot;\\n    value {\\n      type: DT_FLOAT\\n    }\\n  }\\n  attr {\\n    key: &quot;shape&quot;\\n    value {\\n      shape {\\n        dim {\\n          size: 2\\n        }\\n      }\\n    }\\n  }\\n  attr {\\n    key: &quot;shared_name&quot;\\n    value {\\n      s: &quot;&quot;\\n    }\\n  }\\n}\\nnode {\\n  name: &quot;y/biases/Assign&quot;\\n  op: &quot;Assign&quot;\\n  input: &quot;y/biases&quot;\\n  input: &quot;y/biases/Initializer/zeros&quot;\\n  attr {\\n    key: &quot;T&quot;\\n    value {\\n      type: DT_FLOAT\\n    }\\n  }\\n  attr {\\n    key: &quot;_class&quot;\\n    value {\\n      list {\\n        s: &quot;loc:@y/biases&quot;\\n      }\\n    }\\n  }\\n  attr {\\n    key: &quot;use_locking&quot;\\n    value {\\n      b: true\\n    }\\n  }\\n  attr {\\n    key: &quot;validate_shape&quot;\\n    value {\\n      b: true\\n    }\\n  }\\n}\\nnode {\\n  name: &quot;y/biases/read&quot;\\n  op: &quot;Identity&quot;\\n  input: &quot;y/biases&quot;\\n  attr {\\n    key: &quot;T&quot;\\n    value {\\n      type: DT_FLOAT\\n    }\\n  }\\n  attr {\\n    key: &quot;_class&quot;\\n    value {\\n      list {\\n        s: &quot;loc:@y/biases&quot;\\n      }\\n    }\\n  }\\n}\\nnode {\\n  name: &quot;y/MatMul&quot;\\n  op: &quot;MatMul&quot;\\n  input: &quot;l1/Relu&quot;\\n  input: &quot;y/weights/read&quot;\\n  attr {\\n    key: &quot;T&quot;\\n    value {\\n      type: DT_FLOAT\\n    }\\n  }\\n  attr {\\n    key: &quot;transpose_a&quot;\\n    value {\\n      b: false\\n    }\\n  }\\n  attr {\\n    key: &quot;transpose_b&quot;\\n    value {\\n      b: false\\n    }\\n  }\\n}\\nnode {\\n  name: &quot;y/BiasAdd&quot;\\n  op: &quot;BiasAdd&quot;\\n  input: &quot;y/MatMul&quot;\\n  input: &quot;y/biases/read&quot;\\n  attr {\\n    key: &quot;T&quot;\\n    value {\\n      type: DT_FLOAT\\n    }\\n  }\\n  attr {\\n    key: &quot;data_format&quot;\\n    value {\\n      s: &quot;NHWC&quot;\\n    }\\n  }\\n}\\nnode {\\n  name: &quot;y/Softmax&quot;\\n  op: &quot;Softmax&quot;\\n  input: &quot;y/BiasAdd&quot;\\n  attr {\\n    key: &quot;T&quot;\\n    value {\\n      type: DT_FLOAT\\n    }\\n  }\\n}\\n';\n",
       "          }\n",
       "        </script>\n",
       "        <link rel=&quot;import&quot; href=&quot;https://tensorboard.appspot.com/tf-graph-basic.build.html&quot; onload=load()>\n",
       "        <div style=&quot;height:600px&quot;>\n",
       "          <tf-graph-basic id=&quot;graph0.6354037609448716&quot;></tf-graph-basic>\n",
       "        </div>\n",
       "    \"></iframe>\n",
       "    "
      ],
      "text/plain": [
       "<IPython.core.display.HTML object>"
      ]
     },
     "metadata": {},
     "output_type": "display_data"
    }
   ],
   "source": [
    "## Launch TensorBoard, and visualize the TF graph\n",
    "tmp_def = utils.rename_nodes(sess.graph_def, lambda s:\"/\".join(s.split('_',1)))\n",
    "utils.show_graph(tmp_def)"
   ]
  },
  {
   "cell_type": "code",
   "execution_count": 19,
   "metadata": {
    "ExecuteTime": {
     "end_time": "2018-01-02T13:46:41.350797Z",
     "start_time": "2018-01-02T13:46:41.223833Z"
    }
   },
   "outputs": [
    {
     "name": "stdout",
     "output_type": "stream",
     "text": [
      "x_fft_pl, (?, 168)\n",
      "y, (?, 2)\n",
      "l1, (?, 32)\n"
     ]
    },
    {
     "ename": "NameError",
     "evalue": "name 'l2' is not defined",
     "output_type": "error",
     "traceback": [
      "\u001b[0;31m---------------------------------------------------------------------------\u001b[0m",
      "\u001b[0;31mNameError\u001b[0m                                 Traceback (most recent call last)",
      "\u001b[0;32m<ipython-input-19-2eba8834e0d6>\u001b[0m in \u001b[0;36m<module>\u001b[0;34m()\u001b[0m\n\u001b[1;32m      4\u001b[0m \u001b[0;31m# for the MLP\u001b[0m\u001b[0;34m\u001b[0m\u001b[0;34m\u001b[0m\u001b[0m\n\u001b[1;32m      5\u001b[0m \u001b[0mprint\u001b[0m\u001b[0;34m(\u001b[0m\u001b[0;34m\"l1,\"\u001b[0m\u001b[0;34m,\u001b[0m \u001b[0ml1\u001b[0m\u001b[0;34m.\u001b[0m\u001b[0mget_shape\u001b[0m\u001b[0;34m(\u001b[0m\u001b[0;34m)\u001b[0m\u001b[0;34m)\u001b[0m\u001b[0;34m\u001b[0m\u001b[0m\n\u001b[0;32m----> 6\u001b[0;31m \u001b[0mprint\u001b[0m\u001b[0;34m(\u001b[0m\u001b[0;34m\"l2,\"\u001b[0m\u001b[0;34m,\u001b[0m \u001b[0ml2\u001b[0m\u001b[0;34m.\u001b[0m\u001b[0mget_shape\u001b[0m\u001b[0;34m(\u001b[0m\u001b[0;34m)\u001b[0m\u001b[0;34m)\u001b[0m\u001b[0;34m\u001b[0m\u001b[0m\n\u001b[0m",
      "\u001b[0;31mNameError\u001b[0m: name 'l2' is not defined"
     ]
    }
   ],
   "source": [
    "# PRINT NETWORK (good practice to also include outcommented code when using it)\n",
    "print(\"x_fft_pl,\", x_fft_pl.get_shape())\n",
    "print(\"y,\", y.get_shape())\n",
    "# for the MLP\n",
    "print(\"l1,\", l1.get_shape())\n",
    "print(\"l2,\", l2.get_shape())"
   ]
  },
  {
   "cell_type": "markdown",
   "metadata": {
    "ExecuteTime": {
     "end_time": "2018-01-02T13:30:45.225363Z",
     "start_time": "2018-01-02T13:30:45.217237Z"
    }
   },
   "source": [
    "## Build the cost function"
   ]
  },
  {
   "cell_type": "code",
   "execution_count": 20,
   "metadata": {
    "ExecuteTime": {
     "end_time": "2018-01-02T13:46:42.636513Z",
     "start_time": "2018-01-02T13:46:42.078499Z"
    }
   },
   "outputs": [],
   "source": [
    "clip_norm = 1\n",
    "ts_pl = tf.placeholder(tf.float32, [None, NUM_CLASSES], name=\"targets_pl\")\n",
    "lr_pl = tf.placeholder(tf.float32, [], name=\"learning_rate_pl\")\n",
    "def loss_and_acc(preds):\n",
    "    # computing cross entropy per sample\n",
    "    cross_entropy = -tf.reduce_sum(class_weight * ts_pl * tf.log(preds+1e-10), reduction_indices=[1])\n",
    "    # averaging over samples\n",
    "    loss = tf.reduce_mean(cross_entropy)\n",
    "    # if you want regularization\n",
    "    reg_scale = 0.0001\n",
    "    regularize = tf.contrib.layers.l2_regularizer(reg_scale)\n",
    "    params = tf.get_collection(tf.GraphKeys.TRAINABLE_VARIABLES)\n",
    "    reg_term = sum([regularize(param) for param in params])\n",
    "    loss += reg_term\n",
    "    # calculate accuracy\n",
    "    argmax_y = tf.to_int32(tf.argmax(preds, axis=1))\n",
    "    argmax_t = tf.to_int32(tf.argmax(ts_pl, axis=1))\n",
    "    correct = tf.to_float(tf.equal(argmax_y, argmax_t))\n",
    "    accuracy = tf.reduce_mean(correct)\n",
    "    return loss, accuracy, argmax_y\n",
    "\n",
    "### loss, accuracy and prediction\n",
    "loss, accuracy, prediction = loss_and_acc(y) \n",
    "\n",
    "# defining our optimizer\n",
    "LEARNING_RATE = 0.01\n",
    "optimizer = tf.train.AdamOptimizer(learning_rate=LEARNING_RATE)\n",
    "\n",
    "# applying the gradients\n",
    "grads_and_vars = optimizer.compute_gradients(loss)\n",
    "gradients, variables = zip(*grads_and_vars)  # unzip list of tuples\n",
    "clipped_gradients, global_norm = (\n",
    "    tf.clip_by_global_norm(gradients, clip_norm) )\n",
    "clipped_grads_and_vars = zip(clipped_gradients, variables)\n",
    "\n",
    "# make training op for applying the gradients\n",
    "train_op = optimizer.apply_gradients(clipped_grads_and_vars)\n",
    "\n",
    "# make tensorboard summeries\n",
    "tf.summary.scalar('global_gradient_norm', global_norm)\n",
    "tf.summary.scalar('Evaluation/loss', loss)\n",
    "tf.summary.scalar('Evaluation/accuracy', accuracy)\n",
    "\n",
    "# initialize the Session again to add the new operations\n",
    "sess = tf.Session(config=tf.ConfigProto(gpu_options=gpu_opts))\n",
    "sess.run(tf.global_variables_initializer())"
   ]
  },
  {
   "cell_type": "code",
   "execution_count": 21,
   "metadata": {
    "ExecuteTime": {
     "end_time": "2018-01-02T13:46:42.820902Z",
     "start_time": "2018-01-02T13:46:42.643305Z"
    }
   },
   "outputs": [
    {
     "name": "stdout",
     "output_type": "stream",
     "text": [
      "y (45, 2)\n"
     ]
    }
   ],
   "source": [
    "#Test the forward pass\n",
    "_feature_shape = (45, NUM_FEATURES)\n",
    "_x_shape = np.random.normal(0, 1, _feature_shape).astype('float32')\n",
    "# test the forward pass\n",
    "sess.run(tf.global_variables_initializer())\n",
    "feed_dict = {x_fft_pl: _x_shape,\n",
    "             is_training_pl: False}\n",
    "res_forward_pass = sess.run(fetches=[y], feed_dict=feed_dict)\n",
    "print(\"y\", res_forward_pass[0].shape)"
   ]
  },
  {
   "cell_type": "code",
   "execution_count": 22,
   "metadata": {
    "ExecuteTime": {
     "end_time": "2018-01-02T13:46:43.992144Z",
     "start_time": "2018-01-02T13:46:43.883321Z"
    }
   },
   "outputs": [
    {
     "data": {
      "text/plain": [
       "<subprocess.Popen at 0x7f8faad910b8>"
      ]
     },
     "execution_count": 22,
     "metadata": {},
     "output_type": "execute_result"
    }
   ],
   "source": [
    "# This cell runs tensorboard in the background which means it can be watched live while training\n",
    "# Go to http://your.ip.address:6006 in order to see the tensorboard\n",
    "import subprocess\n",
    "subprocess.Popen([\"tensorboard\",\"--logdir=tensorboard\"])"
   ]
  },
  {
   "cell_type": "markdown",
   "metadata": {},
   "source": [
    "## Training"
   ]
  },
  {
   "cell_type": "code",
   "execution_count": 23,
   "metadata": {
    "ExecuteTime": {
     "end_time": "2018-01-02T13:46:48.843102Z",
     "start_time": "2018-01-02T13:46:44.499731Z"
    }
   },
   "outputs": [
    {
     "name": "stdout",
     "output_type": "stream",
     "text": [
      "\ttrain_loss \ttrain_acc \tvalid_loss \tvalid_acc\n"
     ]
    },
    {
     "name": "stderr",
     "output_type": "stream",
     "text": [
      "/home/dicano/.local/lib/python3.6/site-packages/numpy/core/numeric.py:531: ComplexWarning: Casting complex values to real discards the imaginary part\n",
      "  return array(a, dtype, copy=False, order=order)\n"
     ]
    },
    {
     "name": "stdout",
     "output_type": "stream",
     "text": [
      "0:\t  0.30\t\t  39.9\t\t  0.26\t\t  52.5\n",
      "Convergence reached\n"
     ]
    }
   ],
   "source": [
    "#Training Loop\n",
    "BATCH_SIZE = 1024\n",
    "ITERATIONS = int(1e4)\n",
    "LOG_FREQ = 10\n",
    "VALIDATION_SIZE = 0.1 # 0.1 is ~ 100 samples for valition\n",
    "SEED = 42\n",
    "DROPOUT = True\n",
    "VALID_EVERY = 100\n",
    "\n",
    "\n",
    "sss = StratifiedShuffleSplit(n_splits=ITERATIONS,test_size=VALIDATION_SIZE,random_state=SEED)\n",
    "\n",
    "# setup and write summaries\n",
    "timestamp = datetime.datetime.now().strftime(\"%Y%m%d-%H%M%S\")\n",
    "summaries_path = \"tensorboard/%s\" % (timestamp)\n",
    "summaries = tf.summary.merge_all()\n",
    "\n",
    "summarywriter_train = tf.summary.FileWriter(summaries_path + '/train', sess.graph)\n",
    "summarywriter_valid = tf.summary.FileWriter(summaries_path + '/valid', sess.graph)\n",
    "conv_count = 0\n",
    "\n",
    "train_loss = []\n",
    "train_acc = []\n",
    "num = 0\n",
    "print(\"\\ttrain_loss \\ttrain_acc \\tvalid_loss \\tvalid_acc\")\n",
    "\n",
    "try:\n",
    "    for i, (train_idx,val_idx) in enumerate(sss.split(train,train_labels)):\n",
    "        if i>=ITERATIONS:\n",
    "            break\n",
    "        fetches_train = [train_op, loss, accuracy, summaries]\n",
    "        \n",
    "        x_shape_value = train[train_idx,:]\n",
    "        ts_value = train_labels[train_idx]\n",
    "        ts_value = onehot(ts_value,NUM_CLASSES)\n",
    "        \n",
    "        feed_dict_train = {\n",
    "            x_fft_pl: x_shape_value,\n",
    "            ts_pl: ts_value,\n",
    "            is_training_pl: DROPOUT,\n",
    "            lr_pl: LEARNING_RATE,\n",
    "        }\n",
    "        res_train = sess.run(fetches=fetches_train, feed_dict=feed_dict_train)\n",
    "        if i % LOG_FREQ == 0:\n",
    "            summarywriter_train.add_summary(res_train[3], i)\n",
    "        train_loss.append(res_train[1])\n",
    "        train_acc.append(res_train[2])\n",
    "        if len(train_acc)>4:\n",
    "            if np.abs(train_acc[-1]-train_acc[-2])<1e-4:\n",
    "                conv_count += 1\n",
    "                if conv_count == 10:\n",
    "                    print(\"Convergence reached\")\n",
    "                    break\n",
    "            else:\n",
    "                conv_count = 0\n",
    "        # validate\n",
    "        if i % VALID_EVERY == 0:\n",
    "            num +=1\n",
    "            cur_acc = 0\n",
    "            cur_loss = 0\n",
    "            tot_num = 0\n",
    "            # batch validation\n",
    "                # fetches and feed_dict for validation\n",
    "            fetches_valid = [loss, accuracy, summaries]\n",
    "            \n",
    "            x_shape_value_val = train[val_idx,:]\n",
    "            ts_value_val = train_labels[val_idx]\n",
    "            ts_value_val = onehot(ts_value_val,NUM_CLASSES)\n",
    "            \n",
    "            feed_dict_valid = {\n",
    "                x_fft_pl: x_shape_value_val,\n",
    "                ts_pl: ts_value_val,\n",
    "                is_training_pl: False,\n",
    "            }\n",
    "            # run validation\n",
    "            res_valid = sess.run(fetches=fetches_valid, feed_dict=feed_dict_valid)\n",
    "            # tensorboard and costs\n",
    "            cur_loss += res_valid[0]*num   # Validation loss\n",
    "            cur_acc  += res_valid[1]*num   # Validation accuracy \n",
    "            summarywriter_valid.add_summary(res_valid[2], i) # save the vali summary\n",
    "            tot_num += num\n",
    "\n",
    "            valid_loss = cur_loss / float(tot_num)\n",
    "            valid_acc = (cur_acc / float(tot_num)) * 100\n",
    "            train_loss = sum(train_loss) / float(len(train_loss))\n",
    "            train_acc = sum(train_acc) / float(len(train_acc)) * 100\n",
    "            print(\"%d:\\t  %.2f\\t\\t  %.1f\\t\\t  %.2f\\t\\t  %.1f\" % (i, train_loss, train_acc, valid_loss, valid_acc))\n",
    "            train_loss = []\n",
    "            train_acc = []\n",
    "except KeyboardInterrupt:\n",
    "    pass"
   ]
  },
  {
   "cell_type": "markdown",
   "metadata": {},
   "source": [
    "## TEST"
   ]
  },
  {
   "cell_type": "code",
   "execution_count": 24,
   "metadata": {
    "ExecuteTime": {
     "end_time": "2018-01-02T13:46:48.861948Z",
     "start_time": "2018-01-02T13:46:48.845997Z"
    }
   },
   "outputs": [
    {
     "name": "stderr",
     "output_type": "stream",
     "text": [
      "/home/dicano/.local/lib/python3.6/site-packages/numpy/core/numeric.py:531: ComplexWarning: Casting complex values to real discards the imaginary part\n",
      "  return array(a, dtype, copy=False, order=order)\n"
     ]
    }
   ],
   "source": [
    "fetches_test = [y]\n",
    "x_shape_value = test\n",
    "feed_dict_test = {\n",
    "    x_fft_pl: x_shape_value,\n",
    "    ts_pl: ts_value,\n",
    "    is_training_pl: False,\n",
    "    }\n",
    "# get the result\n",
    "res_test = sess.run(fetches=fetches_test, feed_dict=feed_dict_test)\n",
    "y_out = res_test[0]"
   ]
  },
  {
   "cell_type": "code",
   "execution_count": 25,
   "metadata": {
    "ExecuteTime": {
     "end_time": "2018-01-02T13:46:49.116506Z",
     "start_time": "2018-01-02T13:46:48.864017Z"
    }
   },
   "outputs": [
    {
     "name": "stdout",
     "output_type": "stream",
     "text": [
      "Test Accuracy: 95.3\n"
     ]
    },
    {
     "data": {
      "image/png": "[encoded data removed]",
      "text/plain": [
       "<matplotlib.figure.Figure at 0x7f8faab64860>"
      ]
     },
     "metadata": {},
     "output_type": "display_data"
    }
   ],
   "source": [
    "plt.figure()\n",
    "plt.plot(np.round(y_out)[:,1],'o')\n",
    "plt.plot(test_labels)\n",
    "print('Test Accuracy: %.1f'% (np.sum(np.round(y_out)[:,1]==test_labels)/test_labels.shape[0]*100))"
   ]
  },
  {
   "cell_type": "code",
   "execution_count": 27,
   "metadata": {
    "ExecuteTime": {
     "end_time": "2018-01-02T13:47:06.209910Z",
     "start_time": "2018-01-02T13:47:05.959723Z"
    }
   },
   "outputs": [
    {
     "name": "stdout",
     "output_type": "stream",
     "text": [
      "Normalized confusion matrix\n",
      "[[ 0.94  0.06]\n",
      " [ 0.01  0.99]]\n"
     ]
    },
    {
     "data": {
      "image/png": "[encoded data removed]",
      "text/plain": [
       "<matplotlib.figure.Figure at 0x7f8faadc07b8>"
      ]
     },
     "metadata": {},
     "output_type": "display_data"
    }
   ],
   "source": [
    "# Compute confusion matrix\n",
    "cnf_matrix = skl.metrics.confusion_matrix(test_labels, np.round(y_out)[:,1])\n",
    "np.set_printoptions(precision=2)\n",
    "\n",
    "class_names = ['NO TOU','TOU']\n",
    "\n",
    "# Plot normalized confusion matrix\n",
    "plt.figure()\n",
    "plot_confusion_matrix(cnf_matrix, classes=class_names, normalize=True,\n",
    "                      title='Normalized confusion matrix')\n",
    "\n",
    "\n",
    "#plt.savefig('conf_mat.pdf')"
   ]
  },
  {
   "cell_type": "markdown",
   "metadata": {},
   "source": [
    "# LSTM"
   ]
  },
  {
   "cell_type": "markdown",
   "metadata": {},
   "source": [
    "## Import necessary Libraries"
   ]
  },
  {
   "cell_type": "code",
   "execution_count": 1,
   "metadata": {
    "ExecuteTime": {
     "end_time": "2017-12-22T17:08:26.964594Z",
     "start_time": "2017-12-22T17:08:05.249842Z"
    }
   },
   "outputs": [
    {
     "name": "stderr",
     "output_type": "stream",
     "text": [
      "Using TensorFlow backend.\n",
      "/Applications/anaconda/lib/python3.5/site-packages/statsmodels/compat/pandas.py:56: FutureWarning: The pandas.core.datetools module is deprecated and will be removed in a future version. Please use the pandas.tseries module instead.\n",
      "  from pandas.core import datetools\n"
     ]
    }
   ],
   "source": [
    "%matplotlib inline\n",
    "from keras.models import Sequential\n",
    "import keras\n",
    "from keras.layers.core import Dense, Dropout, Activation\n",
    "from keras.layers import BatchNormalization,LeakyReLU\n",
    "from keras.layers.recurrent import LSTM\n",
    "from keras.callbacks import ReduceLROnPlateau, CSVLogger\n",
    "from keras import optimizers\n",
    "from keras.models import load_model\n",
    "\n",
    "from IPython.display import clear_output\n",
    "import pandas as pd\n",
    "import numpy as np\n",
    "import pdb, time\n",
    "import math\n",
    "import matplotlib.pyplot as plt\n",
    "from statsmodels.tsa.arima_model import ARIMA\n",
    "from sklearn.metrics import mean_squared_error\n"
   ]
  },
  {
   "cell_type": "markdown",
   "metadata": {},
   "source": [
    "## Define callbacks for training"
   ]
  },
  {
   "cell_type": "code",
   "execution_count": 2,
   "metadata": {
    "ExecuteTime": {
     "end_time": "2017-12-14T16:44:38.629694Z",
     "start_time": "2017-12-14T16:42:34.610951Z"
    },
    "collapsed": true
   },
   "outputs": [],
   "source": [
    "class PlotLosses(keras.callbacks.Callback):\n",
    "    def on_train_begin(self, logs={}):\n",
    "        self.i = 0\n",
    "        self.x = []\n",
    "        self.losses = []\n",
    "        self.val_losses = []\n",
    "        \n",
    "        self.fig = plt.figure()\n",
    "        \n",
    "        self.logs = []\n",
    "\n",
    "    def on_epoch_end(self, epoch, logs={}):\n",
    "        self.logs.append(logs)\n",
    "        self.x.append(self.i)\n",
    "        \n",
    "        self.losses.append(logs.get('loss'))\n",
    "        self.val_losses.append(logs.get('val_loss'))\n",
    "        self.i += 1\n",
    "        plt.figure(figsize=(50,10))\n",
    "        plt.ylim([0,max(max(self.val_losses[-20:]),max(self.losses[-20:]))])\n",
    "        clear_output(wait=True)\n",
    "        plt.plot(self.x, self.losses, label=\"loss\")\n",
    "        plt.plot(self.x, self.val_losses, label=\"val_loss\")\n",
    "        plt.legend()\n",
    "        plt.show();"
   ]
  },
  {
   "cell_type": "code",
   "execution_count": 3,
   "metadata": {
    "ExecuteTime": {
     "end_time": "2017-12-22T17:08:37.761748Z",
     "start_time": "2017-12-22T17:08:37.385770Z"
    },
    "collapsed": true
   },
   "outputs": [],
   "source": [
    "def load_data(filename,tof, window,test_pct=0.9, normalize_data = True):\n",
    "    if tof:\n",
    "        data = pd.read_csv(filename,usecols= ['tof','tariff'])\n",
    "        data['next_day_tariff'] = data['tariff'][48:].reset_index(drop=True)\n",
    "        data = data[data['next_day_tariff'].notnull()].as_matrix()\n",
    "    else:\n",
    "        data = pd.read_csv(filename,usecols= ['no_tof']).as_matrix()\n",
    "        \n",
    "    num_features = data.shape[1]\n",
    "    sequence_length = window + 1\n",
    "    result = []\n",
    "    for index in range(len(data) - sequence_length):\n",
    "        result.append(data[index: index + sequence_length])\n",
    "    result = np.array(result)\n",
    "    \n",
    "    row = round(0.9 * result.shape[0])\n",
    "    train = result[:int(row), :]\n",
    "    test = result[int(row):,:]\n",
    "#     pdb.set_trace()\n",
    "    if normalize_data:\n",
    "        m_mean = data[0:int(row),0].mean()\n",
    "        m_std = data[0:int(row),0].std()\n",
    "        train[:,:,0] -= m_mean\n",
    "        train[:,:,0] /= m_std\n",
    "    else:\n",
    "        m_mean = 0\n",
    "        m_std = 1\n",
    "        \n",
    "    x_train = train[:, :-1]\n",
    "    y_train = train[:, -1][:,0]\n",
    "    x_test = test[:, :-1]\n",
    "    y_test = test[:, -1][:,0]\n",
    "    x_train = np.reshape(x_train, (x_train.shape[0], x_train.shape[1], num_features))\n",
    "    x_test = np.reshape(x_test, (x_test.shape[0], x_test.shape[1], num_features))\n",
    "    y_train = np.reshape(y_train,(y_train.shape[0],1))\n",
    "    y_test = np.reshape(y_test,(y_test.shape[0],1))\n",
    "    \n",
    "    return [x_train, y_train, x_test, y_test, m_mean, m_std]\n",
    "\n",
    "def build_model(shape,hl,batch_size):\n",
    "    window = shape[0]\n",
    "    features = shape[1]\n",
    "    ml = len(hl)>1 #boolean multiple layers\n",
    "    d = DROPOUT_PCT\n",
    "    model = Sequential()\n",
    "    \n",
    "    model.add(LSTM( hl[0], input_shape=(window, features), return_sequences=ml))\n",
    "    model.add(Dropout(d))\n",
    "\n",
    "    if  ml: #multiple layers\n",
    "        for i in range(1,len(hl)-1):\n",
    "            model.add(LSTM(hl[i-1], return_sequences=True))\n",
    "            model.add(Dropout(d))\n",
    "        model.add(LSTM(hl[-1], return_sequences=False))\n",
    "        model.add(Dropout(d))\n",
    "\n",
    "    model.add(Dense(1))\n",
    "    model.add(Activation('linear'))\n",
    "\n",
    "    model.compile(loss=LOSS_FUNCTION,optimizer=OPTIMIZER)\n",
    "    model.summary()\n",
    "    return model\n",
    "\n",
    "def evaluate_model_and_predict(X_train,y_train,X_test,y_test,model,m_mean,m_std):\n",
    "    Scaled_X_test = np.copy(X_test)\n",
    "    Scaled_y_test = np.copy(y_test)\n",
    "    Scaled_X_test[:,:,0] -= m_mean\n",
    "    Scaled_X_test[:,:,0] /= m_std\n",
    "    Scaled_y_test -= m_mean\n",
    "    Scaled_y_test /= m_std\n",
    "    train_score = model.evaluate(X_train, y_train, verbose=0)\n",
    "    test_score = model.evaluate(Scaled_X_test, Scaled_y_test, verbose=0) \n",
    "    \n",
    "    p = model.predict(Scaled_X_test)*m_std + m_mean\n",
    "    with open('performance_'+model_name+'.txt','w') as f:\n",
    "        f.write('\\nTrain Score: %s MSE (%s RMSE)' % (train_score, math.sqrt(train_score)))\n",
    "        f.write('\\nTest Score: %s MSE (%s RMSE)' % (test_score, math.sqrt(test_score)))\n",
    "        f.write('\\nFinished in %d hours %02d minutes %02d seconds'%(h, m, s))\n",
    "    show_start = 0\n",
    "    show_end = -1\n",
    "    plt.figure(figsize=(50,10))\n",
    "    plt.plot(p[show_start:show_end],color='red', label='prediction')\n",
    "    plt.plot(y_test[show_start:show_end],color='blue', label='y_test')\n",
    "    plt.legend(loc='upper left')\n",
    "\n",
    "    plt.savefig('lstm_'+model_name+'.eps', format='eps')\n",
    "    plt.show()\n",
    "    return p"
   ]
  },
  {
   "cell_type": "code",
   "execution_count": null,
   "metadata": {
    "collapsed": true
   },
   "outputs": [],
   "source": [
    "TOF = False # train on tof customers including tariff values\n",
    "EPOCHS = 100\n",
    "BATCH_SIZE = [256,512]\n",
    "HIDDEN_UNITS = [50,100,200]\n",
    "NUMBER_OF_LAYERS = [1,2]\n",
    "DAYS_WINDOW = [1,2,7]\n",
    "WINDOW = [day_window*48 for day_window in DAYS_WINDOW]\n",
    "NORMALIZE_DATA = True\n",
    "# BATCH_NORM = False\n",
    "OPTIMIZER = optimizers.RMSprop(lr=0.01)\n",
    "reduce_lr = ReduceLROnPlateau(monitor='val_loss', factor=0.5,epsilon = 0.01, patience=5, min_lr=1e-8,verbose=1)\n",
    "LOSS_FUNCTION = 'mse'\n",
    "TEST_PCT = 0.9\n",
    "DROPOUT_PCT = 0.2\n",
    "VALIDATION_SPLIT = 0.1\n",
    "FILENAME = 'total_cons.csv'\n",
    "\n",
    "# nl = number of layers\n",
    "# hu = number of hidden units\n",
    "\n",
    "for nl in NUMBER_OF_LAYERS:\n",
    "    for hu in HIDDEN_UNITS:\n",
    "        for window in WINDOW: \n",
    "            for batch_size in BATCH_SIZE:\n",
    "                model_name = 'dp'+str(window)+'_nl'+str(nl)+'_hu'+str(hu)+'_bs'+str(batch_size)\n",
    "                OPTIMIZER = optimizers.RMSprop(lr=0.01)\n",
    "                csv_logger = CSVLogger('traininglog_'+model_name+'.csv')\n",
    "                hl = [hu]* nl\n",
    "                plot_losses = PlotLosses()\n",
    "                callbacks = [plot_losses, reduce_lr, csv_logger]\n",
    "\n",
    "\n",
    "                X_train, y_train, X_test, y_test,m_mean,m_std = load_data(FILENAME,TOF,\n",
    "                                                                          window, \n",
    "                                                                          normalize_data = NORMALIZE_DATA)\n",
    "                \n",
    "                model = build_model(list(X_train.shape[1:]),hl,batch_size)\n",
    "\n",
    "                start_time = time.time() #initialize time\n",
    "                model.fit(\n",
    "                    X_train,\n",
    "                    y_train,\n",
    "                    batch_size= batch_size,\n",
    "                    epochs=EPOCHS,\n",
    "                    validation_split=VALIDATION_SPLIT,\n",
    "                    callbacks= callbacks,\n",
    "                    verbose=1)\n",
    "                \n",
    "                elapsed_time = time.time() - start_time\n",
    "                m, s = divmod(elapsed_time, 60)\n",
    "                h, m = divmod(m, 60)\n",
    "                \n",
    "                model.save('lstm_'+model_name+'.h5')\n",
    "                \n",
    "                p = evaluate_model_and_predict(X_train,y_train,X_test,y_test,model,m_mean,m_std)\n"
   ]
  },
  {
   "cell_type": "markdown",
   "metadata": {},
   "source": [
    "## Simple ARIMA forecaster for model comparison with LSTM"
   ]
  },
  {
   "cell_type": "code",
   "execution_count": 12,
   "metadata": {
    "ExecuteTime": {
     "end_time": "2017-12-21T17:59:58.347559Z",
     "start_time": "2017-12-21T17:59:58.337665Z"
    },
    "scrolled": true
   },
   "outputs": [
    {
     "name": "stdout",
     "output_type": "stream",
     "text": [
      "ARIMA model MSE:  501.34610549\n"
     ]
    }
   ],
   "source": [
    "data = pd.read_csv('data/total_cons.csv',usecols= ['no_tof']).as_matrix()\n",
    "train_size = int(len(X) * 0.9)\n",
    "train, test = data[0:train_size], X[train_size:len(data)]\n",
    "previous_cons = [x for x in train]\n",
    "predictions = list()\n",
    "for t in range(len(test)):\n",
    "    model = ARIMA(previous_cons, order=(5,0,0))\n",
    "    model_fit = model.fit(disp=0)\n",
    "    prediction = model_fit.forecast()\n",
    "    pred = prediction[0]\n",
    "    predictions.append(pred)\n",
    "    current_cons = test[t]\n",
    "    previous_cons.append(current_cons)\n",
    "    print(t)\n",
    "error = mean_squared_error(test, predictions)\n",
    "print('ARIMA model MSE: ', error)"
   ]
  },
  {
   "cell_type": "markdown",
   "metadata": {},
   "source": [
    "## Compute 'unnormalized' MSE for comparison with ARIMA"
   ]
  },
  {
   "cell_type": "code",
   "execution_count": 11,
   "metadata": {
    "ExecuteTime": {
     "end_time": "2017-12-21T17:59:31.390898Z",
     "start_time": "2017-12-21T17:59:18.666375Z"
    }
   },
   "outputs": [
    {
     "name": "stdout",
     "output_type": "stream",
     "text": [
      "Best LSTM model MSE:  250.502781982\n"
     ]
    }
   ],
   "source": [
    "lstm_model = load_model('lstm_dp1_nl2_hu200_stFalse_bs512_300e.h5')\n",
    "\n",
    "X_train, y_train, X_test, y_test,m_mean,m_std = load_data('Data/total_cons.csv',False,\n",
    "                                                                          48, \n",
    "                                                                          normalize_data = True)\n",
    "\n",
    "p = lstm_model.predict((X_test-m_mean)/m_std)*m_std + m_mean\n",
    "error = mean_squared_error(y_test, p)\n",
    "print('Best LSTM model MSE: ', error)"
   ]
  }
 ],
 "metadata": {
  "kernelspec": {
   "display_name": "Python 3",
   "language": "python",
   "name": "python3"
  },
  "language_info": {
   "codemirror_mode": {
    "name": "ipython",
    "version": 3
   },
   "file_extension": ".py",
   "mimetype": "text/x-python",
   "name": "python",
   "nbconvert_exporter": "python",
   "pygments_lexer": "ipython3",
   "version": "3.6.3"
  }
 },
 "nbformat": 4,
 "nbformat_minor": 2
}
